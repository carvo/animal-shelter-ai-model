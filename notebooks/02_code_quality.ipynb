{
 "cells": [
  {
   "cell_type": "markdown",
   "metadata": {},
   "source": [
    "# Code quality\n",
    "<img src='../images/xebia-logo.png' width='300px' align='right' style=\"padding: 15px\">\n",
    "\n",
    "Writing modular, reusable code is important for code quality.\n",
    "\n",
    "Code is a means to communicate: you use it to communicate with machines but also with other developers. Therefore high quality code is good communication.\n",
    "\n",
    "Code of high quality is correct, human readable, consistent, modular and reusable.\n",
    "\n",
    "In this notebook you will practice refactoring code to improve its quality (e.g. how easy is to understand, modify, maintain, test). "
   ]
  },
  {
   "cell_type": "markdown",
   "metadata": {},
   "source": [
    "<a id='refactor'></a>\n",
    "## Refactoring"
   ]
  },
  {
   "cell_type": "markdown",
   "metadata": {},
   "source": [
    "The code in `add_features()` produces the correct output, but it's not good code (yet).\n",
    "The function is doing multiple things (checking sex, getting hair type, etc.) and that is [not OK](https://blog.codinghorror.com/curlys-law-do-one-thing/)."
   ]
  },
  {
   "cell_type": "markdown",
   "metadata": {},
   "source": [
    "### <mark> Exercise: Refactoring\n",
    "\n",
    "Move the sub-logic from `add_features()`  to the appropriate functions in:\n",
    "\n",
    " - `check_has_name()`\n",
    " - `get_sex()`\n",
    " - `get_neutered()`\n",
    " - `get_hair_type()`\n",
    " - `compute_days_upon_outcome()`    \n",
    "\n",
    " The function `check_is_dog()` is already filled in for you.\n",
    " All functions take a `Series` (a column in our `DataFrame`) and return a `Series`.\n",
    "\n",
    "After this exercise `add_features()` should look something like:\n",
    "\n",
    "\n",
    " ```python\n",
    " def add_features(df):\n",
    "     df['is_dog'] = check_is_dog(df['animal_type'])\n",
    "     df['has_name'] = check_has_name(df['name'])\n",
    "     # ...\n",
    "     return df\n",
    " ```\n",
    "\n",
    "You can use the following documented function definitions."
   ]
  },
  {
   "cell_type": "code",
   "execution_count": null,
   "metadata": {},
   "outputs": [],
   "source": [
    "\n",
    "def check_has_name(name):\n",
    "    \"\"\"Check if the animal is not called 'unknown'.\n",
    "    Parameters\n",
    "    ----------\n",
    "    name : pandas.Series\n",
    "        Animal name\n",
    "    Returns\n",
    "    -------\n",
    "    result : pandas.Series\n",
    "        Unknown or not.\n",
    "    \"\"\"\n",
    "    return name  # TODO: Replace this.\n",
    "\n",
    "\n",
    "def get_sex(sex_upon_outcome):\n",
    "    \"\"\"Determine if the sex was 'Male', 'Female' or unknown.\n",
    "    Parameters\n",
    "    ----------\n",
    "    sex_upon_outcome : pandas.Series\n",
    "        Sex and fixed state when coming in\n",
    "    Returns\n",
    "    -------\n",
    "    sex : pandas.Series\n",
    "        Sex when coming in\n",
    "    \"\"\"\n",
    "    return sex_upon_outcome  # TODO: Replace this.\n",
    "\n",
    "\n",
    "def get_neutered(sex_upon_outcome):\n",
    "    \"\"\"Determine if an animal was intact or not.\n",
    "    Parameters\n",
    "    ----------\n",
    "    sex_upon_outcome : pandas.Series\n",
    "        Sex and fixed state when coming in\n",
    "    Returns\n",
    "    -------\n",
    "    sex : pandas.Series\n",
    "        Intact, fixed or unknown\n",
    "    \"\"\"\n",
    "    return sex_upon_outcome  # TODO: Replace this.\n",
    "\n",
    "\n",
    "def get_hair_type(breed):\n",
    "    \"\"\"Get hair type of a breed.\n",
    "    Parameters\n",
    "    ----------\n",
    "    breed : pandas.Series\n",
    "        Breed of animal\n",
    "    Returns\n",
    "    -------\n",
    "    hair_type : pandas.Series\n",
    "        Hair type\n",
    "    \"\"\"\n",
    "    return breed  # TODO: Replace this.\n",
    "\n",
    "\n",
    "def compute_days_upon_outcome(age_upon_outcome):\n",
    "    \"\"\"Compute age in days upon outcome.\n",
    "    Parameters\n",
    "    ----------\n",
    "    age_upon_outcome : pandas.Series\n",
    "        Age as string\n",
    "    Returns\n",
    "    -------\n",
    "    days_upon_outcome : pandas.Series\n",
    "        Age in days\n",
    "    \"\"\"\n",
    "    return age_upon_outcome ## TODO: Replace this.\n"
   ]
  },
  {
   "cell_type": "markdown",
   "metadata": {},
   "source": [
    "You can run run the following cells to test your changes while developing:"
   ]
  },
  {
   "cell_type": "code",
   "execution_count": null,
   "metadata": {},
   "outputs": [],
   "source": [
    "from animal_shelter.data import load_data\n",
    "from animal_shelter.features import add_features\n",
    "animal_outcomes = load_data('../data/test.csv')\n",
    "with_features = add_features(animal_outcomes)\n",
    "with_features.head()"
   ]
  },
  {
   "cell_type": "code",
   "execution_count": null,
   "metadata": {},
   "outputs": [],
   "source": [
    "%load_ext autoreload\n",
    "%autoreload 2"
   ]
  },
  {
   "cell_type": "markdown",
   "metadata": {},
   "source": [
    "### <mark> Exercise: Side effects\n",
    "\n",
    "It already looks better and more structured, but there are still things that should be improved.\n",
    "\n",
    " The function `add_features()` has an unexpected [side effect](https://softwareengineering.stackexchange.com/questions/15269/why-are-side-effects-considered-evil-in-functional-programming): the input `df` gets changed when the function is called.\n",
    "    \n",
    " Generally, you want to avoid this kind of behaviour. How could you avoid this?\n",
    " \n",
    " You could use `.copy()` to create a copy of the object, or use the `pd.DataFrame.assign()` method.\n",
    " \n",
    "\n",
    " What would you do to improve these functions further?"
   ]
  },
  {
   "cell_type": "markdown",
   "metadata": {},
   "source": [
    "### <mark> Exercise: Styling\n",
    "\n",
    "Through the refactor you might notice that the style of some of the code might no adhere to PEP8 guidelines (e.g. using snake_case for variable names). Feel free to change them if you notice some errors, but in the next notebook you will see how to automatically detect style violations.\n",
    "\n",
    "Additionally, in Python modules it's common to denote functions that are only meant to be used from within the module with an underscore. For example, in the `features` module, `load_data` is a function that other modules might import an use, but all other functions are likely just gonna be used from within the module. You can mark them as internal with a leading underscore."
   ]
  }
 ],
 "metadata": {
  "kernelspec": {
   "display_name": "Python 3 (ipykernel)",
   "language": "python",
   "name": "python3"
  },
  "language_info": {
   "codemirror_mode": {
    "name": "ipython",
    "version": 3
   },
   "file_extension": ".py",
   "mimetype": "text/x-python",
   "name": "python",
   "nbconvert_exporter": "python",
   "pygments_lexer": "ipython3",
   "version": "3.12.3"
  },
  "vscode": {
   "interpreter": {
    "hash": "854759ad136d12febc63223e263ca6d31f684f31f0501f26974c9dc721af0e5f"
   }
  }
 },
 "nbformat": 4,
 "nbformat_minor": 4
}
