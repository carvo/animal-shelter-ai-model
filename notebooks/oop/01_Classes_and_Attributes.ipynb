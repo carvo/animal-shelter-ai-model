{
 "cells": [
  {
   "cell_type": "markdown",
   "metadata": {},
   "source": [
    "<img src='images/gdd-logo.png' width='300px' align='right' style=\"padding: 15px\">\n",
    "\n",
    "# Object Oriented Programming\n",
    "<br>\n",
    "\n",
    "> <font size=3>***\"Everything in Python is an object.\"***</font>  \n",
    "\n",
    "Hearing that phrase is very common, but understanding it - really understanding it - is something else. \n",
    "\n",
    "In this notebook, you will work with objects and classes to understand object-oriented programming and how that applies in the Python data model.\n",
    "\n",
    "**Agenda**\n",
    "\n",
    "- [Introduction to OOP](#intro)\n",
    "    - [What is OOP?](#oop)\n",
    "    - [The learning investment](#invest)\n",
    "    - [Acknowledgements](#ack)\n",
    "\n",
    "- [Building a `Deck` of cards](#deck)\n",
    "    - [Classes, attributes and methods](#cam)\n",
    "    - [<mark>Exercise - Attributes and Methods</mark>](#ex-am)\n",
    "    - [Making a simple list of cards](#list)\n",
    "- [Creating the class for `Deck`](#class)\n",
    "    - [The `__init__` method](#init)\n",
    "    - [Adding attributes](#atts)\n",
    "       \n",
    "- [Class Methods](#methods)\n",
    "    - [Add the deal method](#deal)\n",
    "    - [<mark>Exercise - Count the cards</mark>](#ex-count)\n",
    "    - [Bonus: Mutability](#mutability)\n",
    "    - [<mark>Bonus Exercise - Mutability</mark>](#ex-mutability)\n",
    "\n",
    "- [Conclusion](#conclusion)"
   ]
  },
  {
   "cell_type": "markdown",
   "metadata": {},
   "source": [
    "---\n",
    "<a id='intro'></a>\n",
    "## Introduction to Object Oriented Programming\n",
    "\n",
    "> <font size=3>***\"Everything in Python is an object.\"***</font>  \n",
    "\n",
    "This tutorial will **add sense and understanding to this phrase** by introducing Object Oriented Programming (OOP) in Python to understand **the Python data model**. \n",
    "\n",
    "<a id='oop'></a>\n",
    "### What is OOP?\n",
    "\n",
    "Object-oriented programming (OOP) is a style of programming characterized by:\n",
    "- **Encapsulation**: The identification of classes of objects \n",
    "    - which share common characteristics (*attributes*)\n",
    "    - and can do similar things (*methods*)\n",
    "- **Inheritance**: The idea that attributes and methods can be taken from other classes\n",
    "\n",
    "Python supports all the basic features of an OOP language with this paradigm having some benefits:\n",
    "1. Code can be modularized\n",
    "2. Increasing understandablity and scalability,\n",
    "2. which makes collaboration easier,  \n",
    "3. and leads to better software maintainability. \n",
    "\n",
    "\n",
    "<a id='invest'></a>\n",
    "### The learning investment\n",
    "\n",
    "Learning this programming paradigm provides two benefits:\n",
    "- Understanding the Python data model to improve your understanding of Python and work more effectively with code\n",
    "- Being able to extend the Python language following consistent programming principles\n",
    "\n",
    "> **Note**: This is not a recommendation to only use OOP going forward, but a deep dive into the Python programming language to better understand its implementation. Whether you choose to use this (or not) as a way of working going forward is up to you.\n",
    "\n",
    "\n",
    "<a id='ack'></a>\n",
    "### Acknowledgements\n",
    "The example is inspired on the card deck in the excellent book:\n",
    "\n",
    "> *Fluent Python (second edition) by Luciano Ramalho (O'Reilly). Copyright 2022 Luciano Ramalho*"
   ]
  },
  {
   "cell_type": "markdown",
   "metadata": {},
   "source": [
    "---\n",
    "<a id='deck'></a>\n",
    "# Building a Deck of cards\n",
    "\n",
    "In this tutorial you will implement a class called `Deck`, which represents a (French) card deck. \n",
    "\n",
    "<img src='images/french-card.jpeg'>"
   ]
  },
  {
   "cell_type": "markdown",
   "metadata": {},
   "source": [
    "<a id='cam'></a>\n",
    "### Classes, Attributes and Methods\n",
    "\n",
    "OOP uses the concept of objects and classes. A class can be thought of as a 'blueprint' for objects. \n",
    "\n",
    "Each class can have their own:\n",
    "\n",
    "- **Attributes:** Characteristics they possess \n",
    "- **Methods:** Actions they perform"
   ]
  },
  {
   "cell_type": "markdown",
   "metadata": {},
   "source": [
    "<a id='ex-am'></a>\n",
    "### <mark>Exercise - Attributes and Methods</mark>\n",
    "\n",
    "Discuss with another participant the attributes and methods you would have with a deck of cards - fill in the below with 2-3 of each.\n",
    "\n",
    "1. What attributes does a deck of cards have?"
   ]
  },
  {
   "cell_type": "raw",
   "metadata": {},
   "source": [
    "1.\n",
    "2.\n",
    "3.\n",
    "..."
   ]
  },
  {
   "cell_type": "markdown",
   "metadata": {},
   "source": [
    "2. What methods (actions) can you perform on a deck of cards?"
   ]
  },
  {
   "cell_type": "raw",
   "metadata": {},
   "source": [
    "1.\n",
    "2.\n",
    "3.\n",
    "..."
   ]
  },
  {
   "cell_type": "markdown",
   "metadata": {},
   "source": [
    "<a id='list'></a>\n",
    "## Making a simple list of cards"
   ]
  },
  {
   "cell_type": "markdown",
   "metadata": {},
   "source": [
    "## Making one card\n",
    "\n",
    "First let's make just one card using [`collections.namedtuple`](https://realpython.com/python-namedtuple/) called `Card`.\n",
    "\n",
    "> `collections.namedtuple` is specially designed to make your code more Pythonic when working with tuples. With `namedtuple()`, you can create immutable sequence types that allow you to access their values using descriptive field names and the dot notation instead of unclear integer indices.\n"
   ]
  },
  {
   "cell_type": "code",
   "execution_count": null,
   "metadata": {},
   "outputs": [],
   "source": [
    "import collections\n",
    "\n",
    "Card = collections.namedtuple('Card', ['rank', 'suit'])\n",
    "        \n",
    "card_example = Card('A','♠')"
   ]
  },
  {
   "cell_type": "markdown",
   "metadata": {},
   "source": [
    "Now we have a tuple where we can select each item using it's named field."
   ]
  },
  {
   "cell_type": "code",
   "execution_count": null,
   "metadata": {},
   "outputs": [],
   "source": [
    "print(card_example)\n",
    "\n",
    "print(f'This card has rank: {card_example.rank}')\n",
    "print(f'This card has suit: {card_example.suit}')"
   ]
  },
  {
   "cell_type": "markdown",
   "metadata": {},
   "source": [
    "## Making all 52 cards\n",
    "\n",
    "Now let's think about how you would make a deck of cards.\n",
    "\n",
    "In a deck, there are four suits `♠♥♦♣` and 13 ranks `A23456789TJQK`. So you need 52 (4 suits $\\times$ 13 ranks) cards to represent the whole deck of cards.\n",
    "\n",
    "You can use a list comprehension with two for-loops to get all 52 (4 $\\times$ 13) cards."
   ]
  },
  {
   "cell_type": "code",
   "execution_count": null,
   "metadata": {},
   "outputs": [],
   "source": [
    "ranks_example = 'A23456789TJQK'\n",
    "suits_example = '♠♥♦♣'\n",
    "\n",
    "# List comprehension to get each card as a tuple\n",
    "cards_example = [Card(rank, suit)\n",
    "                for suit in suits_example\n",
    "                for rank in ranks_example\n",
    "                ]\n",
    "\n",
    "print(cards_example)"
   ]
  },
  {
   "cell_type": "markdown",
   "metadata": {},
   "source": [
    "We now have a list of all the cards in a standard French deck.\n",
    "\n",
    "However, can this list simulate all the typical properties we tend to associate with a deck of cards?\n",
    "- shuffle the deck\n",
    "- deal a card\n",
    "- split the deck\n",
    "- draw a hand\n",
    "- etc."
   ]
  },
  {
   "cell_type": "markdown",
   "metadata": {},
   "source": [
    "---\n",
    "<a id='class'></a>\n",
    "## Creating the class for `Deck`\n",
    "\n",
    "Now that you know how to create a simple list of cards, you are going to convert this into a class so that it can support new programming paradigms that only apply to a deck of cards."
   ]
  },
  {
   "cell_type": "markdown",
   "metadata": {},
   "source": [
    "<a id='init'></a>\n",
    "### The `__init__` method\n",
    "\n",
    "Below you have an empty class with no methods (except the `__init__` method)."
   ]
  },
  {
   "cell_type": "code",
   "execution_count": null,
   "metadata": {},
   "outputs": [],
   "source": [
    "class Deck:\n",
    "\n",
    "    def __init__(self):\n",
    "        pass"
   ]
  },
  {
   "cell_type": "markdown",
   "metadata": {},
   "source": [
    "To work with this class we need to instantiate it as a variable."
   ]
  },
  {
   "cell_type": "code",
   "execution_count": null,
   "metadata": {},
   "outputs": [],
   "source": [
    "deck = Deck()\n",
    "deck"
   ]
  },
  {
   "cell_type": "markdown",
   "metadata": {},
   "source": [
    "`__init__` is a reserved method in python classes. It is called a **constructor** in object-oriented terminology. This method is called when an object is created from a class and it allows the class to initialize the attributes of the class.\n",
    "\n",
    "The `self` variable represents the instance of the object itself. Most object-oriented languages pass this as a hidden parameter to the methods defined on an object - Python does not. You have to declare it explicitly, but you do not declare it when you instantiate the object `Deck()`.\n",
    "\n",
    "The name `self` is a convention (and highly recommended) and can take other names, but it **has to be the first parameter of any method in the class**."
   ]
  },
  {
   "cell_type": "markdown",
   "metadata": {},
   "source": [
    "---\n",
    "<a id='atts'></a>\n",
    "## Class attributes\n",
    "Let's think about the attributes\n",
    "\n",
    "- `ranks`\n",
    "- `suits`\n",
    "- `cards`\n",
    "\n",
    "Since `cards` is generated from the ranks and suits, you can initialize cards in the `__init__` method. This will also allow you to scale this class later say if you want to switch up the kind of deck we are using."
   ]
  },
  {
   "cell_type": "code",
   "execution_count": null,
   "metadata": {},
   "outputs": [],
   "source": [
    "import collections\n",
    "\n",
    "Card = collections.namedtuple('Card', ['rank', 'suit'])\n",
    "\n",
    "class Deck:\n",
    "    \n",
    "    def __init__(self):\n",
    "        self.ranks = 'A23456789TJQK'\n",
    "        self.suits = '♠♥♦♣'\n",
    "        self.cards = [\n",
    "            Card(rank, suit)\n",
    "            for suit in self.suits\n",
    "            for rank in self.ranks\n",
    "        ]"
   ]
  },
  {
   "cell_type": "markdown",
   "metadata": {},
   "source": [
    "Now that the blueprint for the deck is in Python, you can use this to instantiate it as `deck`. "
   ]
  },
  {
   "cell_type": "code",
   "execution_count": null,
   "metadata": {},
   "outputs": [],
   "source": [
    "deck = Deck()"
   ]
  },
  {
   "cell_type": "markdown",
   "metadata": {},
   "source": [
    "Now you can access the attributes from `deck` using dot accessor."
   ]
  },
  {
   "cell_type": "code",
   "execution_count": null,
   "metadata": {},
   "outputs": [],
   "source": [
    "deck.ranks"
   ]
  },
  {
   "cell_type": "markdown",
   "metadata": {},
   "source": [
    "Note that while you have the attributes `deck.ranks`, `deck.suits` and `deck.cards` which are strings and a list, you actually have created a new type of object."
   ]
  },
  {
   "cell_type": "markdown",
   "metadata": {},
   "source": [
    "### <mark>Extra:</mark> A note on creating attributes\n",
    "\n",
    "It is also possible to define variables outside the `__init__` method which will equally be accessible (and mutable) using the `class.attribute` syntax. However, there is a slight difference:\n",
    "\n",
    "- variables defined **outside** the `__init__` method belong to the class (*class variables*),\n",
    "- while variables defined **inside** the `__init__` method belong to an instance of a class (*instance variables*).\n",
    "\n",
    "Luckily, in most cases, this difference often does not matter and your code will probably work both ways.\n",
    "\n",
    "We will not go into the intricacies (an in-depth discussion can be found e.g. [here](https://www.atatus.com/blog/class-variables-vs-instance-variables-in-java/)), but let's illustrate the difference on a simple example:\n",
    "\n"
   ]
  },
  {
   "cell_type": "code",
   "execution_count": null,
   "metadata": {},
   "outputs": [],
   "source": [
    "class Deck2:\n",
    "    \n",
    "    # Now defined as class variables\n",
    "    ranks = 'A23456789TJQK'\n",
    "    suits = '♠♥♦♣'\n",
    "      \n",
    "    def __init__(self):\n",
    "        # self.ranks = 'A23456789TJQK'\n",
    "        # self.suits = '♠♥♦♣'\n",
    "        self.cards = [\n",
    "            Card(rank, suit)\n",
    "            for suit in self.suits\n",
    "            for rank in self.ranks\n",
    "        ]"
   ]
  },
  {
   "cell_type": "code",
   "execution_count": null,
   "metadata": {},
   "outputs": [],
   "source": [
    "Deck2.ranks"
   ]
  },
  {
   "cell_type": "markdown",
   "metadata": {},
   "source": [
    "As we can see, without initializing an instance of the class, the `Deck2` class has already an attribute called `ranks`. This is because the attributes `ranks` and `suits` belong to the class itself.\n",
    "\n",
    "However, that's not the case with the original `Deck` class:"
   ]
  },
  {
   "cell_type": "code",
   "execution_count": null,
   "metadata": {},
   "outputs": [],
   "source": [
    "# Deck.ranks"
   ]
  },
  {
   "cell_type": "markdown",
   "metadata": {},
   "source": [
    "It seems that the original `Deck` class does not have this attribute.\n",
    "\n",
    "However, this changes when you *initialize* the classes:"
   ]
  },
  {
   "cell_type": "code",
   "execution_count": null,
   "metadata": {},
   "outputs": [],
   "source": [
    "deck = Deck()\n",
    "deck2 = Deck2()\n",
    "\n",
    "deck.ranks, deck2.ranks"
   ]
  },
  {
   "cell_type": "markdown",
   "metadata": {},
   "source": [
    "Now, both classes have the `ranks` and `suits` attributes."
   ]
  },
  {
   "cell_type": "markdown",
   "metadata": {},
   "source": [
    "The difference, however, is that the `ranks` and `suits` in the `Deck2` class are **class variables**. If we change the attributes of the class, we will change these attributes across all instances:"
   ]
  },
  {
   "cell_type": "code",
   "execution_count": null,
   "metadata": {},
   "outputs": [],
   "source": [
    "deck2a = Deck2()\n",
    "deck2b = Deck2()\n",
    "\n",
    "(deck2a.suits, deck2a.ranks), (deck2b.suits, deck2b.ranks)"
   ]
  },
  {
   "cell_type": "code",
   "execution_count": null,
   "metadata": {},
   "outputs": [],
   "source": [
    "Deck2.ranks = '456'\n",
    "(deck2a.suits, deck2a.ranks), (deck2b.suits, deck2b.ranks)"
   ]
  },
  {
   "cell_type": "markdown",
   "metadata": {},
   "source": [
    "As we can see, changing the class variable changes the attributes of all instances.\n",
    "\n",
    "### Bottom line \n",
    "There is a difference between **class** variables and **instance** variables. Often, this difference is not noticable, but it can lead to problems when object attributes are changed with a method or (like in our example) via direct re-assignment.\n",
    "\n",
    "> <mark>**Best practice:**</mark> Define all variables that could differ from instance to instance (think of the `.shape` and `.dtypes` of a `pd.DataFrame`) into the `__init__` method, and define static class variables only if they are shared across all instances of a class (e.g., the `pd.DataFrame` class should always only have 2 dimensions)."
   ]
  },
  {
   "cell_type": "markdown",
   "metadata": {},
   "source": [
    "---\n",
    "<a id='methods'></a>\n",
    "## Class methods"
   ]
  },
  {
   "cell_type": "markdown",
   "metadata": {},
   "source": [
    "Alright! You now have a `Deck` class with attributes that when initialized, creates a new pack of cards. Now let's add some methods!\n",
    "\n",
    "<a id=deal></a>\n",
    "\n",
    "### Add the method `deck.deal()`\n",
    "\n",
    "Add a method to deal one card from the `Deck`. \n",
    "\n",
    "To do this, you need a method that returns the last item from the list of cards, as well as removing that card from the original deck. The `pop` method will do this for any list:"
   ]
  },
  {
   "cell_type": "code",
   "execution_count": null,
   "metadata": {},
   "outputs": [],
   "source": [
    "a_list = [1, 2, 3, 4]\n",
    "a_list.pop()"
   ]
  },
  {
   "cell_type": "markdown",
   "metadata": {},
   "source": [
    "Above you see the last item of the list, let's check the original list"
   ]
  },
  {
   "cell_type": "code",
   "execution_count": null,
   "metadata": {},
   "outputs": [],
   "source": [
    "a_list"
   ]
  },
  {
   "cell_type": "markdown",
   "metadata": {},
   "source": [
    "This is exactly the functionality you want in your deck! Let's add it into the class."
   ]
  },
  {
   "cell_type": "code",
   "execution_count": null,
   "metadata": {},
   "outputs": [],
   "source": [
    "class Deck:\n",
    "    ranks = '23456789TJQKA'\n",
    "    suits = '♠♥♦♣'\n",
    "    \n",
    "    def __init__(self):\n",
    "        self.cards = [\n",
    "            Card(rank, suit)\n",
    "            for suit in self.suits\n",
    "            for rank in self.ranks\n",
    "        ]\n",
    "    \n",
    "    def deal(self):\n",
    "        return self.cards.pop()\n",
    "\n",
    "deck = Deck()"
   ]
  },
  {
   "cell_type": "markdown",
   "metadata": {},
   "source": [
    "The cell above has also instantiated the deck as variable `deck`, which can be used to call the method `deal`"
   ]
  },
  {
   "cell_type": "code",
   "execution_count": null,
   "metadata": {
    "scrolled": true
   },
   "outputs": [],
   "source": [
    "deck.deal(), len(deck.cards)"
   ]
  },
  {
   "cell_type": "markdown",
   "metadata": {},
   "source": [
    "Notice the difference between *methods of a class* like `deck.deal()` and *attributes of a class* like `deck.ranks`. "
   ]
  },
  {
   "cell_type": "code",
   "execution_count": null,
   "metadata": {},
   "outputs": [],
   "source": [
    "deck.ranks, deck.suits"
   ]
  },
  {
   "cell_type": "markdown",
   "metadata": {},
   "source": [
    "Let's repeat this to play more cards!"
   ]
  },
  {
   "cell_type": "code",
   "execution_count": null,
   "metadata": {},
   "outputs": [],
   "source": [
    "for x in range(10):\n",
    "    print(deck.deal())\n",
    "\n",
    "print(f'{len(deck.cards)} cards are left in the deck')"
   ]
  },
  {
   "cell_type": "markdown",
   "metadata": {},
   "source": [
    "**Note on the use of parentheses `()`** \n",
    "\n",
    "Can you think of any objects where you are already using this kind of syntax?\n",
    "<br><br>\n",
    "<details>\n",
    "    <summary><span style=\"color:blue\">Show answer</span></summary>\n",
    "\n",
    "One example are Dataframes in Pandas: `df.shape` is an *attribute* while `df.describe()` is a *method*.\n",
    "\n",
    "</details>"
   ]
  },
  {
   "cell_type": "markdown",
   "metadata": {},
   "source": [
    "<a id='ex-count'></a>\n",
    "### <mark>Exercise:</mark> Add methods!\n",
    "\n",
    "Over to you to add some more methods! \n",
    "\n",
    "> Bonus: If you finish all three exercises, take a look at the next section on [Mutability](#mutability).\n",
    "\n",
    "1. Implement a **method** to get the number of cards in the deck."
   ]
  },
  {
   "cell_type": "code",
   "execution_count": null,
   "metadata": {},
   "outputs": [],
   "source": [
    "import collections\n",
    "\n",
    "Card = collections.namedtuple('Card', ['rank', 'suit'])\n",
    "\n",
    "class Deck:\n",
    "    ranks = '23456789TJQKA'\n",
    "    suits = '♠♥♦♣'\n",
    "    \n",
    "    def __init__(self):\n",
    "        self.cards = [\n",
    "            Card(rank, suit)\n",
    "            for suit in self.suits\n",
    "            for rank in self.ranks\n",
    "        ]\n",
    "    \n",
    "    def deal(self):\n",
    "        return self.cards.pop()\n",
    "    \n",
    "    ## Add new methods here:\n",
    "\n",
    "deck = Deck()"
   ]
  },
  {
   "cell_type": "markdown",
   "metadata": {},
   "source": [
    "2. Implement a **method** that checks whether the next card is an Ace (e.g., you want to take a sneak peek at the next card).\n",
    "\n",
    "    *Warning: Make sure you don't have any side effects (e.g., peaking should not remove the card from the deck)!*"
   ]
  },
  {
   "cell_type": "code",
   "execution_count": null,
   "metadata": {},
   "outputs": [],
   "source": []
  },
  {
   "cell_type": "markdown",
   "metadata": {},
   "source": [
    "3. Add an **attribute** called `dealt_cards`. This attribute should initialize as an empty list when the class is instantiated and update by adding the card that was removed each time `deal` is called."
   ]
  },
  {
   "cell_type": "code",
   "execution_count": null,
   "metadata": {},
   "outputs": [],
   "source": []
  },
  {
   "cell_type": "markdown",
   "metadata": {},
   "source": [
    "**Answers**: Uncomment and run the following to see solutions"
   ]
  },
  {
   "cell_type": "code",
   "execution_count": null,
   "metadata": {},
   "outputs": [],
   "source": [
    "# %load answers/ex-methods-1.py"
   ]
  },
  {
   "cell_type": "code",
   "execution_count": null,
   "metadata": {},
   "outputs": [],
   "source": [
    "# %load answers/ex-methods-2.py"
   ]
  },
  {
   "cell_type": "code",
   "execution_count": null,
   "metadata": {},
   "outputs": [],
   "source": [
    "# %load answers/ex-methods-3.py"
   ]
  },
  {
   "cell_type": "markdown",
   "metadata": {},
   "source": [
    "Nice, you have written your own methods!"
   ]
  },
  {
   "cell_type": "markdown",
   "metadata": {},
   "source": [
    "<a id=mutability></a>\n",
    "\n",
    "## Mutability\n",
    "\n",
    "Python mutability refers to being able to change an object. Simply put, a mutable object can be changed, but an immutable object cannot. \n",
    "\n",
    "<mark>**Question**:</mark> Is `deck` a mutable object?"
   ]
  },
  {
   "cell_type": "raw",
   "metadata": {},
   "source": [
    "Answer: "
   ]
  },
  {
   "cell_type": "markdown",
   "metadata": {},
   "source": [
    "<details>\n",
    "    <summary><span style=\"color:blue\">Show answer</span></summary>\n",
    "\n",
    "Yes, the `Deck` class has methods that mutate the original state of the deck of cards (by removing a card each time you call `.deal()`). \n",
    "\n",
    "</details>"
   ]
  },
  {
   "cell_type": "markdown",
   "metadata": {},
   "source": [
    "<a id=ex-mutability></a>\n",
    "    \n",
    "### Bonus Exercises\n",
    "\n",
    "<mark>**Exercise**</mark>: Can you think of any other examples in Python of objects that can be changed (mutable)? \n",
    "\n",
    "> Use the cells below to **create a Python variable of a mutable object** and show that it can be mutated."
   ]
  },
  {
   "cell_type": "code",
   "execution_count": null,
   "metadata": {},
   "outputs": [],
   "source": []
  },
  {
   "cell_type": "markdown",
   "metadata": {},
   "source": [
    "<mark>**Exercise**</mark>: Can you think of any examples in Python of objects that **cannot** be changed (immutable)? \n",
    "> Use the cells below to **create a Python variable of a immutable object** and show that it cannot be mutated."
   ]
  },
  {
   "cell_type": "code",
   "execution_count": null,
   "metadata": {},
   "outputs": [],
   "source": []
  },
  {
   "cell_type": "markdown",
   "metadata": {},
   "source": [
    "<details>\n",
    "    <summary><span style=\"color:blue\">Show Hints</span></summary>\n",
    "\n",
    "**Hints**: If you are stuck try creating some of the following and use methods and see if they change the object:\n",
    "- `list` (remember the `pop` method?)\n",
    "- `dict` (can you update a value?)\n",
    "- `tuple` (can you overwrite an element?)\n",
    "- `str` (can you change a single letter?)\n",
    "\n",
    "</details>\n"
   ]
  },
  {
   "cell_type": "markdown",
   "metadata": {},
   "source": [
    "---\n",
    "\n",
    "<img src=images/conclusion.png align=right>\n",
    "<a id=conclusion></a>\n",
    "\n",
    "# Conclusion\n",
    "\n",
    "In this tutorial you have written class definitions that act as blueprints for the creation of custom objects. \n",
    "\n",
    "***Everything in Python is an object***\n",
    "\n",
    "Now that you know these fundamental building blocks, you can better understand how objects in Python are implemented. \n",
    "\n",
    "In particular, this notebook has covered:\n",
    "\n",
    "- What is object-oriented programming (OOP) in Python and the benefits of learning this language feature.\n",
    "- Building a class and instantiating objects by working with a deck of cards.\n",
    "- Adding attributes and methods\n",
    "- Understanding the difference between class and instance variables\n",
    "- Understanding the difference between mutable and immutable objects"
   ]
  }
 ],
 "metadata": {
  "kernelspec": {
   "display_name": "Python 3 (ipykernel)",
   "language": "python",
   "name": "python3"
  },
  "language_info": {
   "codemirror_mode": {
    "name": "ipython",
    "version": 3
   },
   "file_extension": ".py",
   "mimetype": "text/x-python",
   "name": "python",
   "nbconvert_exporter": "python",
   "pygments_lexer": "ipython3",
   "version": "3.12.3"
  }
 },
 "nbformat": 4,
 "nbformat_minor": 4
}
