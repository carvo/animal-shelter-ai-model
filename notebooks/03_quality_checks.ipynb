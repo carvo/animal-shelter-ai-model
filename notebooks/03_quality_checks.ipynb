{
 "cells": [
  {
   "cell_type": "markdown",
   "id": "dc08e11f-70cf-4f62-af15-f86654875f1f",
   "metadata": {},
   "source": [
    "# Automating quality checks\n",
    "<img src='../images/xebia-logo.png' width='300px' align='right' style=\"padding: 15px\">\n",
    "\n",
    "This notebooks shows how to use `ruff` as a code formatter and style checker, and how to automate runninng multiple quality checks with pre-commit.\n",
    "\n",
    "Let's start with `ruff`. The first step is installing it by running `poetry add -G dev ruff`.\n",
    "\n",
    "**Question:** Why are you installing it as a `dev` dependency?"
   ]
  },
  {
   "cell_type": "markdown",
   "id": "2ad4d4c2-b311-463d-a22e-1a49ded39eae",
   "metadata": {
    "jp-MarkdownHeadingCollapsed": true
   },
   "source": [
    "## Formatting\n",
    "\n",
    "To format you project you can run `ruff format .`, and if you want to check what would change but without applying the changes you can add the `--diff` flag.\n",
    "\n",
    "#### <mark>Exercise: Trying out the formatter\n",
    "\n",
    "Apply formatting to the project and check what changes `ruff` will make compared to your original code.\n",
    "\n",
    "You can also experiment and try multiple different styles and see whether `ruff` will change them or not."
   ]
  },
  {
   "cell_type": "markdown",
   "id": "5c18d503-55f9-41f9-8675-01c88f4bcfb4",
   "metadata": {},
   "source": [
    "## Styling\n",
    "\n",
    "Apart from formatting, `ruff` can act as a code linter that detects a multitude of potential stylistic issues. `ruff` has a list of over 700 rules, but only some of them are activated by default.\n",
    "\n",
    "To run the style checker you can run `ruff check .` in your project.\n",
    "\n",
    "#### <mark>Exercise 1:</mark> Trying out the linter\n",
    "\n",
    "- Run `ruff check` in your project and fix the stylistic errors it reports.\n",
    "- Some errors might be automatically fixable by passing the `--fix` flag.\n",
    "\n",
    "### Configuring `ruff`\n",
    "\n",
    "You can turn-on additional rules on the `pyproject.toml`.\n",
    "\n",
    "```toml\n",
    "[tool.ruff.lint]\n",
    "extend-select = [\n",
    "  \"UP\", # pyupgrade\n",
    "  \"D\",  # pydocstyle\n",
    "  \"N\",  # PEP8 names\n",
    "  \"I\"  # isort\n",
    "]\n",
    "```\n",
    "\n",
    "Or ignore specific rules with `ignore` under `[tool.ruff.lint]`.\n",
    "\n",
    "You can also exclude particular directories.\n",
    "\n",
    "```toml\n",
    "[tool.ruff]\n",
    "exclude = [\n",
    "    \".git\",\n",
    "    \".pyenv\",\n",
    "    \".pytest_cache\",\n",
    "    \".pytype\",\n",
    "    \".ruff_cache\",\n",
    "     \".venv\"\n",
    "     ]\n",
    "```\n",
    "\n",
    "#### <mark>Exercise 2:</mark> Adding rules\n",
    "\n",
    "Choose some additional rules from the `ruff` documentation (https://docs.astral.sh/ruff/rules/) and explore what effect they have on your project."
   ]
  },
  {
   "cell_type": "markdown",
   "id": "1aaa007f-be55-441b-ba6d-57a791f401d0",
   "metadata": {},
   "source": [
    "<a id='pre'></a>\n",
    "## Automating checks with pre-commit\n",
    "It can get annoying having to run `ruff` everytime before we share our code with our colleagues, for example by pushing it to our `git` repository. \n",
    "\n",
    "That's where `pre-commit` comes in. With `pre-commit` we can configure various checks on our code before our code is committed to our repository. \n",
    "\n",
    "We can add pre-commit as a dev dependency and generate a default configuration file.\n",
    "\n",
    "```\n",
    "poetry add -G dev pre-commit\n",
    "(poetry run) pre-commit sample-config > .pre-commit-config.yaml\n",
    "```\n",
    "\n",
    "Then we can install pre-commit with \n",
    "\n",
    "```\n",
    "pre-commit install\n",
    "```\n",
    "\n",
    "This will ensure that the pre-commit hooks are run before the code is _actually_ commited.\n",
    "\n",
    "To rever the installation, you can:\n",
    "\n",
    "```\n",
    "pre-commit uninstall\n",
    "```\n",
    "\n",
    "#### <mark> Exercise: </mark> Testing pre-commit\n",
    "\n",
    "Try now to commit some changes to the repository. \n",
    "\n",
    "Read the messages that you get. Some hooks fail; why? \n",
    "\n",
    "With the sample configuration, you automatically checked for trailing whitespace, end of file fixer (newline at the end of the file, check if any yamls that exist in the repo are parseable and whether any large files were added. The pre-commit failed on the `end-of-file fixer`, but immediately corrected it. The pre-commit also failed on the `check-added-large-file check`, as the `test.cs` and`train.csv` exceeded the allowed limit. Want these files to be checked in anyway? Adjust your configuration by removing these checks. \n",
    "\n",
    "Have a look at [the documentation](https://pre-commit.com/hooks.html) to see what other checks you can add! For example, `check-toml` to check whether the toml file is parseable. \n",
    "\n",
    "### Some notes on pre-commit\n",
    "\n",
    "Pre-commit is a very widely used tool to run multiple checks within repositories that contain Python packages. It makes it quite convenient to configure what checks to run.\n",
    "\n",
    "However, as a developer, having pre-commit running in your local machine can become annoying since you won't be able to commit changes that contain code that doesn't pass the tests. Sometimes you might want to commit WIP changes that don't pass all tests (e.g. you don't have time to fix your code and wan't to save your WIP).\n",
    "\n",
    "You can configure and use `pre-commit` without running automatically on every commit by ommiting the `poetry run pre-commit install` command during setup, or by explicitly unistalling it via `precommit uninstall`. To run pre-commit manually you can execute `pre-commit run --all-files`.\n",
    "\n",
    "Additionally, some `pre-commit` hooks run their actions on different environments than your package's virtual environment. \n",
    "\n",
    "#### <mark> Exercise: </mark> Adding `ruff` to pre-commit\n",
    "\n",
    "Add `ruff` to `pre-commit` and check that `ruff check` and `ruff format` run when you run `pre-commit`.\n",
    "\n",
    "- Have a look at: https://github.com/astral-sh/ruff-pre-commit\n",
    "- And also investigate how to add a *local* `pre-commit` hook that runs the version of `ruff` installed in your package.\n",
    "    - *Hint: set the `repo` value to `local` and use the values `id`, `name`, `entry`, `language`, `pass_filenames` and `always_run`.*\n"
   ]
  },
  {
   "cell_type": "markdown",
   "id": "caa0f622-dcef-4ba9-8c48-8bfceb623901",
   "metadata": {},
   "source": [
    "<a id='type'></a>\n",
    "## Type hinting & checking\n",
    "\n",
    "Type hints make it much easier to statically reason about your code.\n",
    "Signalling what types are used by your code can serve as documentation, help linters & IDEs, and help catch errors by checking the hints.\n",
    "\n",
    "Type hinting in Python is not necesarily a do or do-not choice: you can gradually add type hints.\n",
    "A good practice is to at least add type hints to the public functionality of your library."
   ]
  },
  {
   "cell_type": "markdown",
   "id": "206025a0-7b73-4b1e-9a7b-b75b440507eb",
   "metadata": {},
   "source": [
    "Let's discuss some examples.\n",
    "\n",
    "`-> None` tells us that this function returns `None`."
   ]
  },
  {
   "cell_type": "code",
   "execution_count": null,
   "id": "56075a32-d846-415e-966b-933313db94e3",
   "metadata": {},
   "outputs": [],
   "source": [
    "def p() -> None: \n",
    "    print('hello')\n",
    "\n",
    "?p\n",
    "\n",
    "p()"
   ]
  },
  {
   "cell_type": "markdown",
   "id": "04ee1051-2a07-456a-845f-cd1fa45c8635",
   "metadata": {},
   "source": [
    "The function below accepts an argument `names` that should consist of a list with strings in it."
   ]
  },
  {
   "cell_type": "code",
   "execution_count": null,
   "id": "cd908942-658e-447e-b202-ffe6f2d4f1f4",
   "metadata": {},
   "outputs": [],
   "source": [
    "def greet_all(names: list[str]) -> None: \n",
    "    for name in names:\n",
    "        print('Hello ' + name)\n",
    "\n",
    "?greet_all\n",
    "\n",
    "\n",
    "greet_all(['Jane', 'Mike'])"
   ]
  },
  {
   "cell_type": "markdown",
   "id": "5628152f-cf2f-4d85-a69b-73d99fe76019",
   "metadata": {},
   "source": [
    "Type hints are *hints*.\n",
    "You can still disregard them:"
   ]
  },
  {
   "cell_type": "code",
   "execution_count": null,
   "id": "292e65a5-c011-4c7b-be4c-2928ea0c2a8e",
   "metadata": {},
   "outputs": [],
   "source": [
    "greet_all(('Jane', 'Mike'))"
   ]
  },
  {
   "cell_type": "markdown",
   "id": "7b17ac3e-81d4-4070-9589-40a7efd8280f",
   "metadata": {},
   "source": [
    "[Duck typing](https://en.wikipedia.org/wiki/Duck_typing) is supported: you can signal that `names` can be any collection that supports iteration:"
   ]
  },
  {
   "cell_type": "code",
   "execution_count": null,
   "id": "1c259b08-2fbe-480a-98f1-3aa543bcf187",
   "metadata": {},
   "outputs": [],
   "source": [
    "from typing import Iterable\n",
    "\n",
    "def greet_all(names: Iterable[str]) -> None:\n",
    "    for name in names: \n",
    "        print('Hello ' + name)"
   ]
  },
  {
   "cell_type": "markdown",
   "id": "74cc0668-d127-4620-930c-01e2136b20e5",
   "metadata": {},
   "source": [
    "Even though type hints are *hints* and are not enforced by the python interpreter, you can enforce them yourself by running a type checker. The most widely used one is `mypy`."
   ]
  },
  {
   "cell_type": "markdown",
   "id": "f1d4a1f4-aeaf-4cf8-be0a-1ba1e6539896",
   "metadata": {},
   "source": [
    "### <mark> Exercise:</mark> set up mypy\n",
    "\n",
    "Add type hints to modules `data.py` and `features.py` so that mypy doesn't return any errors when you run `poetry run mypy src/`.\n",
    "\n",
    "You will need to install `mypy` as a development dependency, and install extensions for types included on Pandas (i.e. stubs). If you run `mypy` without having installed the stubs, you will get an error telling you how to do it. However, try installing any package needed via poetry instead of via pip.\n",
    "\n",
    "- Can you check what the `--disallow-untyped-defs` and `--strict` options do?\n",
    "\n",
    "Also, extend your pre-commit config to include mypy using a local hook!"
   ]
  },
  {
   "cell_type": "markdown",
   "id": "d29dae1f-fa27-4ba2-a438-bc7a1eb4ca0c",
   "metadata": {},
   "source": [
    "## Extra: running pre-commit from github actions\n",
    "\n",
    "So far, this notebook has covered how to set up automatic quality checks in your local development machines. When collaborating with others, it is best to share the configuration of all these quality checks (i.e. commiting the configuration to the repository) to ensure that everyone is running the same quality checks.\n",
    "\n",
    "Moreoever, all modern git-based code-sharing services (i.e. git forges, e.g. github, gitlab, gitea) offer running these quality checks on their platforms, to enforce the quality checks on all code included in the repositories.\n",
    "\n",
    "For example, to run pre-commit on all commits to the `main` banch and on all commits with branches with PRs opened, you can add the following yaml code to `.github/workflows/pre-commit.yml`."
   ]
  },
  {
   "cell_type": "markdown",
   "id": "66ca1f89-043a-4251-933e-ae4e48596254",
   "metadata": {},
   "source": [
    "```yaml\n",
    "name: pre-commit\n",
    "\n",
    "on:\n",
    "  pull_request:\n",
    "  push:\n",
    "    branches: [main]\n",
    "\n",
    "jobs:\n",
    "  pre-commit:\n",
    "    runs-on: ubuntu-latest\n",
    "    steps:\n",
    "    - uses: actions/checkout@v4\n",
    "    - uses: actions/setup-python@v4\n",
    "      with: \n",
    "        python-version-file: pyproject.toml\n",
    "    - uses: abatilo/actions-poetry@v2\n",
    "    - run: poetry install\n",
    "    - run: poetry run pre-commit run\n",
    "```"
   ]
  },
  {
   "cell_type": "markdown",
   "id": "dbfd4473-375a-4159-a7a7-e55d4c30a40a",
   "metadata": {},
   "source": [
    "You can try it out by pushing your branch to the repository and creating a PR from it to `main`."
   ]
  }
 ],
 "metadata": {
  "kernelspec": {
   "display_name": "Python 3 (ipykernel)",
   "language": "python",
   "name": "python3"
  },
  "language_info": {
   "codemirror_mode": {
    "name": "ipython",
    "version": 3
   },
   "file_extension": ".py",
   "mimetype": "text/x-python",
   "name": "python",
   "nbconvert_exporter": "python",
   "pygments_lexer": "ipython3",
   "version": "3.12.3"
  }
 },
 "nbformat": 4,
 "nbformat_minor": 5
}
