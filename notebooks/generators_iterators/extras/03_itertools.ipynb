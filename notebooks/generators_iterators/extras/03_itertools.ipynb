{
 "cells": [
  {
   "cell_type": "markdown",
   "metadata": {
    "slideshow": {
     "slide_type": "slide"
    }
   },
   "source": [
    "<img src='../images/gdd-logo.png' width='300px' align='right' style=\"padding: 15px\">\n",
    "\n",
    "# <font color='#1EB0E0'>Itertools</font>\n",
    "\n",
    "## Goal\n",
    "\n",
    "In this notebook we shall explore `itertools`: A Python module that contains buidling blocks for performing fast and memory-efficient iterations.\n",
    "\n",
    "## Program\n",
    "\n",
    "- [Motivation](#motivation)\n",
    "- [Infinite iterators](#infinite)\n",
    "    - `cycle` \n",
    "    - `count`\n",
    "- [Terminating iterators](#finite)\n",
    "    - `islice`\n",
    "    - `chain` \n",
    "    - `accumulate`\n",
    "    - `groupby`\n",
    "- [Combinatoric iterators](#comb)\n",
    "    - `product`\n",
    "    - `permutations`\n",
    "    - `combinations` "
   ]
  },
  {
   "cell_type": "markdown",
   "metadata": {
    "slideshow": {
     "slide_type": "subslide"
    }
   },
   "source": [
    "## Motivation \n",
    "\n",
    "Previously we have seen **iterators** and **generator functions**.\n",
    "\n",
    "- iterator: an object which will return data, one element at a time.\n",
    "- generator function: a function that returns generator iterators, i.e. objects which yield one value at a time.\n",
    "\n",
    "However, often the way we want to iterate is rather common. For example, getting the different permutations or combinations for a number of items.\n",
    "\n",
    "In such cases we can make use of `itertools`: A Python module that contains buidling blocks for performing fast and memory-efficient iterations.\n",
    "\n",
    "We shall demonstrate a few items that we feel are very useful, but you can find a comlete list of functions in the [documentation](https://docs.python.org/3/library/itertools.html)."
   ]
  },
  {
   "cell_type": "markdown",
   "metadata": {
    "slideshow": {
     "slide_type": "slide"
    }
   },
   "source": [
    "<a id='infinite'></a>\n",
    "## Infinite iterators"
   ]
  },
  {
   "cell_type": "markdown",
   "metadata": {
    "slideshow": {
     "slide_type": "slide"
    }
   },
   "source": [
    "### `cycle`\n",
    "\n",
    "Cycle through an iterator over and over forever."
   ]
  },
  {
   "cell_type": "code",
   "execution_count": null,
   "metadata": {},
   "outputs": [],
   "source": [
    "from itertools import cycle\n",
    "\n",
    "count = 0\n",
    "\n",
    "for i in cycle([1, 2, 3]):\n",
    "    \n",
    "    if count > 10:\n",
    "        break\n",
    "    \n",
    "    print(f\"value from iterable is {i}\")\n",
    "    \n",
    "    count += i\n",
    "        \n",
    "    print(f\"total count is {count}\")"
   ]
  },
  {
   "cell_type": "markdown",
   "metadata": {
    "slideshow": {
     "slide_type": "slide"
    }
   },
   "source": [
    "*Here we use it with `islice` to avoid an infinite iteration.*"
   ]
  },
  {
   "cell_type": "code",
   "execution_count": null,
   "metadata": {},
   "outputs": [],
   "source": [
    "list(islice(cycle([1, 2, 3]), 8))"
   ]
  },
  {
   "cell_type": "markdown",
   "metadata": {},
   "source": [
    "### `count`\n",
    "\n",
    "Make an iterator that returns evenly spaced values starting with number start. \n",
    "\n",
    "This is also an infinite operator."
   ]
  },
  {
   "cell_type": "code",
   "execution_count": null,
   "metadata": {},
   "outputs": [],
   "source": [
    "from itertools import count"
   ]
  },
  {
   "cell_type": "code",
   "execution_count": null,
   "metadata": {},
   "outputs": [],
   "source": [
    "for i in count(10,5):\n",
    "    print(i)\n",
    "    if i > 50:\n",
    "        break"
   ]
  },
  {
   "cell_type": "markdown",
   "metadata": {},
   "source": [
    "We can use it to produce an equivalent of the `enumerate` function."
   ]
  },
  {
   "cell_type": "code",
   "execution_count": null,
   "metadata": {
    "scrolled": true
   },
   "outputs": [],
   "source": [
    "list(zip(count(), 'hello'))"
   ]
  },
  {
   "cell_type": "markdown",
   "metadata": {},
   "source": [
    "<a id='finite'></a>\n",
    "## Terminating iterators"
   ]
  },
  {
   "cell_type": "markdown",
   "metadata": {
    "slideshow": {
     "slide_type": "slide"
    }
   },
   "source": [
    "### `islice`\n",
    "\n",
    "Creates an iterator that returns selected elements from the iterable."
   ]
  },
  {
   "cell_type": "code",
   "execution_count": null,
   "metadata": {},
   "outputs": [],
   "source": [
    "from itertools import islice\n",
    "list(islice(range(30), 1, 10, 2))  # start [optional], stop,  step [optional]"
   ]
  },
  {
   "cell_type": "markdown",
   "metadata": {},
   "source": [
    "The result is identical to something like this."
   ]
  },
  {
   "cell_type": "code",
   "execution_count": null,
   "metadata": {},
   "outputs": [],
   "source": [
    "list(range(30)[1:10:2])"
   ]
  },
  {
   "cell_type": "markdown",
   "metadata": {
    "slideshow": {
     "slide_type": "slide"
    }
   },
   "source": [
    "### `chain`\n",
    "\n",
    "Make an iterator that returns all elements from one iterable and then continues with the next iterable. "
   ]
  },
  {
   "cell_type": "code",
   "execution_count": null,
   "metadata": {},
   "outputs": [],
   "source": [
    "from itertools import chain\n",
    "\n",
    "for i in chain('ABC', 'DEF'):\n",
    "    print(i)"
   ]
  },
  {
   "cell_type": "markdown",
   "metadata": {
    "slideshow": {
     "slide_type": "slide"
    }
   },
   "source": [
    "One neat application is flattening (one level at a time) a list of lists."
   ]
  },
  {
   "cell_type": "code",
   "execution_count": null,
   "metadata": {},
   "outputs": [],
   "source": [
    "list_of_lists = [[[1, 2], [3]], [[4, 5], [6]]]"
   ]
  },
  {
   "cell_type": "code",
   "execution_count": null,
   "metadata": {},
   "outputs": [],
   "source": [
    "flatten_1 = list(chain.from_iterable(list_of_lists))"
   ]
  },
  {
   "cell_type": "code",
   "execution_count": null,
   "metadata": {},
   "outputs": [],
   "source": [
    "flatten_1"
   ]
  },
  {
   "cell_type": "code",
   "execution_count": null,
   "metadata": {},
   "outputs": [],
   "source": [
    "flatten_2 = list(chain.from_iterable(flatten_1))"
   ]
  },
  {
   "cell_type": "code",
   "execution_count": null,
   "metadata": {},
   "outputs": [],
   "source": [
    "flatten_2"
   ]
  },
  {
   "cell_type": "markdown",
   "metadata": {
    "slideshow": {
     "slide_type": "slide"
    }
   },
   "source": [
    "### `accumulate`\n",
    "\n",
    "Make an iterator that returns accumulated results."
   ]
  },
  {
   "cell_type": "code",
   "execution_count": null,
   "metadata": {},
   "outputs": [],
   "source": [
    "from itertools import accumulate"
   ]
  },
  {
   "cell_type": "code",
   "execution_count": null,
   "metadata": {},
   "outputs": [],
   "source": [
    "list(accumulate([1, 5, 7, 3, 9], max))"
   ]
  },
  {
   "cell_type": "code",
   "execution_count": null,
   "metadata": {},
   "outputs": [],
   "source": [
    "from operator import add\n",
    "\n",
    "list(accumulate(range(5), add))"
   ]
  },
  {
   "cell_type": "markdown",
   "metadata": {
    "slideshow": {
     "slide_type": "slide"
    }
   },
   "source": [
    "### `groupby`\n",
    "\n",
    "Make an iterator that returns consecutive keys and groups from the iterable. "
   ]
  },
  {
   "cell_type": "code",
   "execution_count": null,
   "metadata": {},
   "outputs": [],
   "source": [
    "from itertools import groupby \n",
    "\n",
    "[list(g) for k, g in groupby('AAAABBBCCDA')]"
   ]
  },
  {
   "cell_type": "code",
   "execution_count": null,
   "metadata": {},
   "outputs": [],
   "source": [
    "for k, g in groupby('AAAABBBCCDA'):\n",
    "    print(k, list(g))"
   ]
  },
  {
   "cell_type": "markdown",
   "metadata": {},
   "source": [
    "Note that the `groupby` function does not group over the entire iterable sequence; grouping occurs locally. When a new key appears, so will a new group."
   ]
  },
  {
   "cell_type": "code",
   "execution_count": null,
   "metadata": {},
   "outputs": [],
   "source": [
    "from itertools import groupby\n",
    "\n",
    "[k for k, g in groupby('AAAABBBCCDAABBB')] "
   ]
  },
  {
   "cell_type": "markdown",
   "metadata": {},
   "source": [
    "To avoid this you could sort the iterable beforehand."
   ]
  },
  {
   "cell_type": "code",
   "execution_count": null,
   "metadata": {},
   "outputs": [],
   "source": [
    "[k for k, g in groupby(sorted('AAAABBBCCDAABBB'))] "
   ]
  },
  {
   "cell_type": "markdown",
   "metadata": {
    "slideshow": {
     "slide_type": "slide"
    }
   },
   "source": [
    "## <mark>Exercise: word counter\n",
    "\n",
    "Write a generator function that \n",
    "- takes a list of strings\n",
    "- returns an iterator, which yields the words from the strings their corresponding frequency"
   ]
  },
  {
   "cell_type": "code",
   "execution_count": null,
   "metadata": {},
   "outputs": [],
   "source": [
    "test_string = [\n",
    "    \"Take a list of strings, and implement a word count with the functions presented above\",\n",
    "    \"Take a list of strings, and implement a word count with the functions presented above\"\n",
    "]"
   ]
  },
  {
   "cell_type": "code",
   "execution_count": null,
   "metadata": {},
   "outputs": [],
   "source": [
    "# %load ../answers/ex-wordcounter.py"
   ]
  },
  {
   "cell_type": "markdown",
   "metadata": {},
   "source": [
    "### `startmap`\n",
    "\n",
    "Make an iterator that computes the function using arguments obtained from the iterable. \n",
    "\n",
    "```\n",
    "starmap(function, iterable)¶\n",
    "```"
   ]
  },
  {
   "cell_type": "code",
   "execution_count": null,
   "metadata": {},
   "outputs": [],
   "source": [
    "from itertools import starmap\n",
    "\n",
    "[i for i in starmap(max, [range(2), range(5), range(10)])]"
   ]
  },
  {
   "cell_type": "code",
   "execution_count": null,
   "metadata": {},
   "outputs": [],
   "source": [
    "list(starmap(pow, [(2, 5), (3, 2), (4, 3)]))"
   ]
  },
  {
   "cell_type": "markdown",
   "metadata": {
    "slideshow": {
     "slide_type": "slide"
    }
   },
   "source": [
    "<a id='comb'></a>\n",
    "## Combinatoric iterators\n",
    "\n",
    "Sometimes you want to go over all possible options. Anytime you deal with combinations and permutations then you should refer the final part of the itertools docs found [here](https://docs.python.org/3/library/itertools.html#module-itertools). These functions are fast and a great aid and quick.\n",
    "\n",
    "### `product`\n",
    "\n",
    "This function can generate all combinations between sets. For example, when we have two sets: "
   ]
  },
  {
   "cell_type": "code",
   "execution_count": null,
   "metadata": {
    "slideshow": {
     "slide_type": "subslide"
    }
   },
   "outputs": [],
   "source": [
    "from itertools import product\n",
    "\n",
    "[i for i in product('abcd', 'def')]"
   ]
  },
  {
   "cell_type": "markdown",
   "metadata": {
    "slideshow": {
     "slide_type": "subslide"
    }
   },
   "source": [
    "But we could also have three sets."
   ]
  },
  {
   "cell_type": "code",
   "execution_count": null,
   "metadata": {},
   "outputs": [],
   "source": [
    "[i for i in product('abc', 'de', 'ef')]"
   ]
  },
  {
   "cell_type": "markdown",
   "metadata": {
    "slideshow": {
     "slide_type": "subslide"
    }
   },
   "source": [
    "### `permutations`\n",
    "\n",
    "You can also worry about a permutation instead of a product. A product will take an item from each set while a permutation takes a subset from single set and it tries to figure out every possible way to order it."
   ]
  },
  {
   "cell_type": "code",
   "execution_count": null,
   "metadata": {},
   "outputs": [],
   "source": [
    "from itertools import permutations\n",
    "\n",
    "[i for i in permutations('abc', 2)]"
   ]
  },
  {
   "cell_type": "code",
   "execution_count": null,
   "metadata": {},
   "outputs": [],
   "source": [
    "[i for i in permutations('abcd', 3)]"
   ]
  },
  {
   "cell_type": "markdown",
   "metadata": {
    "slideshow": {
     "slide_type": "subslide"
    }
   },
   "source": [
    "### <mark> Exercise \n",
    "\n",
    "Suppose that we have the letters `abcdef` in a bag. We are going to take three items out of that bag without replacement. How many times does \"a\" appear as the first or second item? \n",
    "\n",
    "Hint: use something from the collections module."
   ]
  },
  {
   "cell_type": "code",
   "execution_count": null,
   "metadata": {
    "slideshow": {
     "slide_type": "subslide"
    }
   },
   "outputs": [],
   "source": [
    "# %load ../answers/ex-letter-counts.py\n"
   ]
  },
  {
   "cell_type": "markdown",
   "metadata": {
    "slideshow": {
     "slide_type": "slide"
    }
   },
   "source": [
    "### `combinations`\n",
    "\n",
    "Finally, there's also an option to create combinations of iterables. Note the difference with a permutation! A permutation cares about order, a combination **does not**! \n",
    " "
   ]
  },
  {
   "cell_type": "code",
   "execution_count": null,
   "metadata": {
    "slideshow": {
     "slide_type": "subslide"
    }
   },
   "outputs": [],
   "source": [
    "from itertools import combinations\n",
    "\n",
    "[i for i in combinations('abcde', 3)]"
   ]
  },
  {
   "cell_type": "code",
   "execution_count": null,
   "metadata": {
    "slideshow": {
     "slide_type": "subslide"
    }
   },
   "outputs": [],
   "source": [
    "from itertools import combinations_with_replacement\n",
    "\n",
    "[i for i in combinations_with_replacement('abcde', 3)]"
   ]
  },
  {
   "cell_type": "markdown",
   "metadata": {
    "slideshow": {
     "slide_type": "slide"
    }
   },
   "source": [
    "## Summary\n",
    "\n",
    "If you're working with iterables or generators then `itertools` is a nice friend to have nearby. It prevents you from having to write some of these functions yourself. "
   ]
  },
  {
   "cell_type": "markdown",
   "metadata": {
    "slideshow": {
     "slide_type": "slide"
    }
   },
   "source": [
    "## <mark> Review Questions \n",
    "\n",
    "1. How would you flatten a nested list? \n",
    "2. Can `groupby` summarise an iterable for all keys? \n",
    "3. If you needed to know all possible ways to order 5 letters, what `itertools` function would you use? "
   ]
  }
 ],
 "metadata": {
  "kernelspec": {
   "display_name": "Python 3",
   "language": "python",
   "name": "python3"
  },
  "language_info": {
   "codemirror_mode": {
    "name": "ipython",
    "version": 3
   },
   "file_extension": ".py",
   "mimetype": "text/x-python",
   "name": "python",
   "nbconvert_exporter": "python",
   "pygments_lexer": "ipython3",
   "version": "3.8.3"
  }
 },
 "nbformat": 4,
 "nbformat_minor": 2
}
