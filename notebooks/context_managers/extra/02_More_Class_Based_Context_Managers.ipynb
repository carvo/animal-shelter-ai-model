{
 "cells": [
  {
   "cell_type": "markdown",
   "metadata": {},
   "source": [
    "<img src='../images/gdd-logo.png' width='300px' align='right' style=\"padding: 15px\">\n",
    "\n",
    "# <font color='#1EB0E0'>Class Based Context Managers</font>\n",
    "\n",
    "## Introduction\n",
    "\n",
    "In any programming language, the usage of resources like file operations or database connections is very common. But these resources are limited in supply. Therefore, the main problem lies in making sure to release these resources after usage. If they are not released then it will lead to resource leakage and may cause the system to either slow down or crash. It would be very helpful if user have a mechanism for the automatic setup and teardown of resources.In Python, it can be achieved by the usage of context managers which facilitate the proper handling of resources. The most common way of performing file operations is by using the with keyword as shown below:"
   ]
  },
  {
   "cell_type": "markdown",
   "metadata": {},
   "source": [
    "## Creating a Context Manager\n",
    "\n",
    "When creating context managers using classes, we need to ensure that the class has these methods: \n",
    "- `__enter__()`\n",
    "- `__exit__()`\n",
    "\n",
    "The `__enter__()` returns the resource that needs to be managed and the `__exit__()` does not return anything but performs the cleanup operations.\n",
    "\n",
    "First, lets create a simple class called ContextManager to understand the basic structure of creating context managers using classes, as shown below:"
   ]
  },
  {
   "cell_type": "code",
   "execution_count": null,
   "metadata": {},
   "outputs": [],
   "source": [
    "class ContextManager():\n",
    "    def __init__(self):\n",
    "        print('init method called')\n",
    "          \n",
    "    def __enter__(self):\n",
    "        print('enter method called')\n",
    "        return self\n",
    "      \n",
    "    def __exit__(self, type, value, traceback):\n",
    "        print('exit method called')\n",
    "  \n",
    "  \n",
    "with ContextManager() as manager:\n",
    "    print('with statement block')"
   ]
  },
  {
   "cell_type": "markdown",
   "metadata": {},
   "source": [
    "Our `__exit__` method accepts three arguments. They are required by every `__exit__` method which is a part of a Context Manager Class to [handle exceptions](https://book.pythontips.com/en/latest/context_managers.html#handling-exceptions) when closing files.\n",
    "\n",
    "## File management using context manager :\n",
    "\n",
    "Let’s apply the above concept to create a class that helps in file resource management.The FileManager class helps in opening a file, writing/reading contents and then closing it."
   ]
  },
  {
   "cell_type": "code",
   "execution_count": null,
   "metadata": {},
   "outputs": [],
   "source": [
    "class FileManager():\n",
    "    def __init__(self, filename, mode):\n",
    "        self.filename = filename\n",
    "        self.mode = mode\n",
    "        self.file = None\n",
    "          \n",
    "    def __enter__(self):\n",
    "        self.file = open(self.filename, self.mode)\n",
    "        return self.file\n",
    "      \n",
    "    def __exit__(self, exc_type, exc_value, exc_traceback):\n",
    "        self.file.close()\n",
    "  "
   ]
  },
  {
   "cell_type": "code",
   "execution_count": null,
   "metadata": {},
   "outputs": [],
   "source": [
    "# loading a file \n",
    "with FileManager('test.txt', 'w') as f:\n",
    "    f.write('Test')\n",
    "    \n",
    "print(f.closed)"
   ]
  },
  {
   "cell_type": "markdown",
   "metadata": {},
   "source": [
    "On executing the with block, the following operations happen in sequence:\n",
    "\n",
    "- A FileManager object is created with test.txt as the filename and w (write) as the mode when `__init__` method is executed.\n",
    "\n",
    "- The `__enter__` method opens the test.txt file in write mode (setup operation) and returns the FileManager object to variable f.\n",
    "\n",
    "- The text ‘Test’ is written into the file.\n",
    "\n",
    "- The `__exit__` method takes care of closing the file on exiting the with block (teardown operation).\n",
    "When print(f.closed) is run, the output is True as the FileManager has already taken care of closing the file which otherwise needed to be explicitly done.\n",
    "\n",
    "## Database connection management using context manager :\n",
    "\n",
    "Let’s create a simple database connection management system. The number of database connections that can be opened at a time is also limited(just like file descriptors). Therefore context managers are helpful in managing connections to the database as there could be chances that the programmer may forget to close the connection."
   ]
  },
  {
   "cell_type": "code",
   "execution_count": null,
   "metadata": {},
   "outputs": [],
   "source": [
    "from pymongo import MongoClient\n",
    "  \n",
    "class MongoDBConnectionManager():\n",
    "    def __init__(self, hostname, port):\n",
    "        self.hostname = hostname\n",
    "        self.port = port\n",
    "        self.connection = None\n",
    "  \n",
    "    def __enter__(self):\n",
    "        self.connection = MongoClient(self.hostname, self.port)\n",
    "        return self\n",
    "  \n",
    "    def __exit__(self, exc_type, exc_value, exc_traceback):\n",
    "        self.connection.close()\n",
    "  "
   ]
  },
  {
   "cell_type": "code",
   "execution_count": null,
   "metadata": {},
   "outputs": [],
   "source": [
    "# connecting with a localhost\n",
    "with MongoDBConnectionManager('localhost', 27017) as mongo:\n",
    "    collection = mongo.connection.SampleDb.test\n",
    "    data = collection.find({'_id': 1})\n",
    "    print(data)\n",
    " "
   ]
  },
  {
   "cell_type": "markdown",
   "metadata": {},
   "source": [
    "On executing the with block, the following operations happen in sequence:\n",
    "\n",
    "- A MongoDBConnectionManager object is created with `'localhost'` as the hostnamename and `27017` as the port when `__init__` method is executed.\n",
    "- The `__enter__` method opens the mongodb connection and returns the MongoDBConnectionManager object to variable mongo.\n",
    "- The test collection in SampleDb database is accessed and the document with `_id=1` is retrieved. The name field of the document is printed.\n",
    "- The `__exit__` method takes care of closing the connection on exiting the with block(teardown operation)."
   ]
  }
 ],
 "metadata": {
  "kernelspec": {
   "display_name": "Python 3",
   "language": "python",
   "name": "python3"
  },
  "language_info": {
   "codemirror_mode": {
    "name": "ipython",
    "version": 3
   },
   "file_extension": ".py",
   "mimetype": "text/x-python",
   "name": "python",
   "nbconvert_exporter": "python",
   "pygments_lexer": "ipython3",
   "version": "3.8.3"
  }
 },
 "nbformat": 4,
 "nbformat_minor": 4
}
