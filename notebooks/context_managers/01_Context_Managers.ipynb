{
 "cells": [
  {
   "cell_type": "markdown",
   "metadata": {},
   "source": [
    "<img src='images/gdd-logo.png' width='300px' align='right' style=\"padding: 15px\">\n",
    "\n",
    "# Context Managers\n",
    "\n",
    "In Python, a context manager is an object that allows you to control the context in which to run code. You can define how the context is created, and then close or \"tear down\" the context when you are finished."
   ]
  },
  {
   "cell_type": "markdown",
   "metadata": {},
   "source": [
    "<a id='resources'></a>\n",
    "## Managing resources in Python\n",
    "\n",
    "In any programming language, the usage of resources like files and databases is very common. But it is important to release these resources after usage. Otherwise we can cause memomry issues and risk other unintended side effects.\n",
    "\n",
    "For example, let's open the following text file and read it in as a string to interact with."
   ]
  },
  {
   "cell_type": "code",
   "execution_count": null,
   "metadata": {},
   "outputs": [],
   "source": [
    "my_file = open('data/example.txt')"
   ]
  },
  {
   "cell_type": "code",
   "execution_count": null,
   "metadata": {},
   "outputs": [],
   "source": [
    "text = my_file.read()"
   ]
  },
  {
   "cell_type": "code",
   "execution_count": null,
   "metadata": {},
   "outputs": [],
   "source": [
    "print(text)"
   ]
  },
  {
   "cell_type": "code",
   "execution_count": null,
   "metadata": {},
   "outputs": [],
   "source": [
    "len(text)"
   ]
  },
  {
   "cell_type": "markdown",
   "metadata": {},
   "source": [
    "Notice at the moment, the file is still *open*."
   ]
  },
  {
   "cell_type": "code",
   "execution_count": null,
   "metadata": {},
   "outputs": [],
   "source": [
    "my_file.closed"
   ]
  },
  {
   "cell_type": "markdown",
   "metadata": {},
   "source": [
    "It can cause issues if too many files are open as they take up space in memory.\n",
    "\n",
    "Uncomment and run the cell below to demonstrate this."
   ]
  },
  {
   "cell_type": "code",
   "execution_count": null,
   "metadata": {},
   "outputs": [],
   "source": [
    "# file_descriptors = []\n",
    "# for x in range(100000):\n",
    "#     file_descriptors.append(open('data/example.txt', 'r'))"
   ]
  },
  {
   "cell_type": "markdown",
   "metadata": {},
   "source": [
    "We get an error message saying that too many files are open. \n",
    "\n",
    "*Restart the kernel and continue.*"
   ]
  },
  {
   "cell_type": "markdown",
   "metadata": {},
   "source": [
    "To avoid situations like above, when we have finished with a file we should close it."
   ]
  },
  {
   "cell_type": "code",
   "execution_count": null,
   "metadata": {},
   "outputs": [],
   "source": [
    "my_file = open('data/example.txt')"
   ]
  },
  {
   "cell_type": "code",
   "execution_count": null,
   "metadata": {},
   "outputs": [],
   "source": [
    "my_file.close()"
   ]
  },
  {
   "cell_type": "code",
   "execution_count": null,
   "metadata": {},
   "outputs": [],
   "source": [
    "my_file.closed"
   ]
  },
  {
   "cell_type": "markdown",
   "metadata": {},
   "source": [
    "However, it would be very helpful if user have a mechanism for the automatic setup and teardown of resources.\n",
    "\n",
    "In fact, as the `open()` function is a **context manager**, it can facilitate the proper handling of resources.\n",
    "\n",
    "The most common way to do so is by using the `with` keyword. As shown below, it allows us to interact with our file by creating creates a *runtime context*, which is then closed afterwards."
   ]
  },
  {
   "cell_type": "code",
   "execution_count": null,
   "metadata": {},
   "outputs": [],
   "source": [
    "with open('data/example.txt') as my_file:\n",
    "    text = my_file.read()\n",
    "    length = len(text)\n",
    "    print(text)\n",
    "    print(length)"
   ]
  },
  {
   "cell_type": "code",
   "execution_count": null,
   "metadata": {},
   "outputs": [],
   "source": [
    "my_file.closed"
   ]
  },
  {
   "cell_type": "code",
   "execution_count": null,
   "metadata": {},
   "outputs": [],
   "source": [
    "print(f'The file is {length} characters long and the first word is {text.split()[0]}')"
   ]
  },
  {
   "cell_type": "markdown",
   "metadata": {},
   "source": [
    "<a id='caterers'></a>\n",
    "## Caterers are Context Managers\n",
    "\n",
    "\n",
    "<img src='images/party.jpeg' width=500px>\n",
    "\n",
    "Imagine you are hosting a fancy party. You may get caterers to help with the food and refreshments. \n",
    "\n",
    "In this situation, the caterers are analogous to the work that context managers do.\n",
    "\n",
    "|Context Manager|Caterers|\n",
    "|:---|:---|\n",
    "|Set up a context|Set up the tables/prepare the food/drinks}\n",
    "|Run your code|Leave you to party|\n",
    "|Tear down the context|Clean up the mess|"
   ]
  },
  {
   "cell_type": "markdown",
   "metadata": {},
   "source": [
    "<a id='use'></a>\n",
    "\n",
    "## Using a context manager:\n",
    "\n",
    "To use a context manager you open the context with the keyword `with`. Any code written in the indented block will run in the context.\n",
    "\n",
    "```python\n",
    "with <context-manager>(<args>) as <variable-name>:\n",
    "    # your code here\n",
    "    # this code is running 'inside the context'\n",
    "        \n",
    "# This code runs after the context is removed\n",
    "```"
   ]
  },
  {
   "cell_type": "markdown",
   "metadata": {},
   "source": [
    "---\n",
    "\n",
    "<a id='ex-use'></a>\n",
    "\n",
    "## <mark>Exercise: Practice using context managers</mark>\n",
    "\n",
    "For exercise 1 you will need the following information about the data to use:\n",
    "\n",
    "|File Name|Full Book Name|\n",
    "|---|---|\n",
    "|`data/alice.txt`|Alice's Adventures in Wonderland|\n",
    "|`data/frankenstein.txt`|Frankenstein; or, The Modern Prometheus|\n",
    "|`data/pride.txt`|Pride and Prejudice|\n",
    "\n",
    "\n",
    "#### **Exercise 1:** Count how many times Lewis Caroll uses the word rabbit in the first chapter of Alice's Adventures in Wonderland\n",
    "\n",
    "- Open `\"data/alice.txt\"` and assign the file to `file`.\n",
    "- Using `file.read()` assign a new variable text with the contents of `alice.txt`.\n",
    "- Use the `str.count()` method to count the number of times the word `rabbit` appears."
   ]
  },
  {
   "cell_type": "code",
   "execution_count": null,
   "metadata": {},
   "outputs": [],
   "source": []
  },
  {
   "cell_type": "code",
   "execution_count": null,
   "metadata": {},
   "outputs": [],
   "source": [
    "# %load answers/ex-use1.py"
   ]
  },
  {
   "cell_type": "markdown",
   "metadata": {},
   "source": [
    "## Building your own context managers\n",
    "\n",
    "There are two ways to build a context manager. With either a `OOP-based` or **`generator-based`** approach. "
   ]
  },
  {
   "cell_type": "markdown",
   "metadata": {},
   "source": [
    "### OOP-based context managers\n",
    "\n",
    "To define custom context managers we need to create a class that implements `__enter__()` and `__exit__()`.\n",
    "\n",
    "- You can also define `__init__()` to specify arguments that the context manager can take.\n",
    "- `__exit__()` needs to accept a reference to `self`, the type of exception it might throw, the exception itself and a traceback object as arguments."
   ]
  },
  {
   "cell_type": "code",
   "execution_count": null,
   "metadata": {},
   "outputs": [],
   "source": [
    "import sqlite3\n",
    "import pandas as pd\n",
    "\n",
    "class DBConnection:\n",
    "\n",
    "    def __init__(self, db_name):\n",
    "        self.db = db_name\n",
    "\n",
    "    def __enter__(self):\n",
    "        self.conn = sqlite3.connect(self.db)\n",
    "        return self.conn\n",
    "\n",
    "    def __exit__(self, exc_class, exc, traceback):\n",
    "        self.conn.close()\n",
    "        \n",
    "        \n",
    "with DBConnection('SQLDatabase.db') as db:\n",
    "     trends = pd.read_sql('''SELECT * FROM programming_trends''', db)\n",
    "\n",
    "trends.head()"
   ]
  },
  {
   "cell_type": "markdown",
   "metadata": {},
   "source": [
    "#### **Exercise 2:** Create a context manager called `InDir` that allows tou to run code form a different directory that the current working directory."
   ]
  },
  {
   "cell_type": "code",
   "execution_count": null,
   "metadata": {},
   "outputs": [],
   "source": [
    "!pwd"
   ]
  },
  {
   "cell_type": "code",
   "execution_count": null,
   "metadata": {},
   "outputs": [],
   "source": []
  },
  {
   "cell_type": "code",
   "execution_count": null,
   "metadata": {},
   "outputs": [],
   "source": [
    "# This code should work unedited\n",
    "# with InDir('../../'):\n",
    "#     notebook_files = os.listdir('notebooks')\n",
    "    \n",
    "# notebook_files"
   ]
  },
  {
   "cell_type": "code",
   "execution_count": null,
   "metadata": {},
   "outputs": [],
   "source": [
    "!pwd # Should not have changed!"
   ]
  },
  {
   "cell_type": "code",
   "execution_count": null,
   "metadata": {},
   "outputs": [],
   "source": [
    "# %load answers/ex-build1.py"
   ]
  },
  {
   "cell_type": "markdown",
   "metadata": {},
   "source": [
    "#### **Exercise 3:** Create a context manager called `Timer` that times the execution time of code in its body.\n",
    "\n",
    "- You can also add an extra argument that allows the user to add a description to the log of the execution time."
   ]
  },
  {
   "cell_type": "code",
   "execution_count": null,
   "metadata": {},
   "outputs": [],
   "source": []
  },
  {
   "cell_type": "code",
   "execution_count": null,
   "metadata": {},
   "outputs": [],
   "source": [
    "# %load answers/ex-build2.py"
   ]
  },
  {
   "cell_type": "markdown",
   "metadata": {},
   "source": [
    "### Generator-based context managers\n",
    "\n",
    "Instead of creating context managers by designing classes, it's usually more ergonomic and idiomatic to use a generator function.\n",
    "\n",
    "You can decorate any generator with the `@contextlib.contextmanager` decorator. The code before the `yield` statemt will act as the context set-up. The `yield` statement can return a handle to the object created in the context, and any code after `yield` will act as teardowm.\n",
    "\n",
    "The quivalent to the previous database context manager would be:"
   ]
  },
  {
   "cell_type": "code",
   "execution_count": null,
   "metadata": {},
   "outputs": [],
   "source": [
    "import contextlib\n",
    "import sqlite3\n",
    "import pandas as pd\n",
    "\n",
    "@contextlib.contextmanager\n",
    "def my_database(db_name):\n",
    "    \n",
    "    conn = sqlite3.connect(db_name)\n",
    "    \n",
    "    yield conn\n",
    "    \n",
    "    conn.close()\n",
    "    \n",
    "\n",
    "with my_database('SQLDatabase.db') as db:\n",
    "    trends = pd.read_sql('''SELECT * FROM programming_trends''', db)\n",
    "    \n",
    "trends.head()"
   ]
  },
  {
   "cell_type": "markdown",
   "metadata": {},
   "source": [
    "Python's `sqlite` package actually comes with it's own context manager, great! So we can use that instead. The above demonstrates the flow of using a context manager while connecting to SQL."
   ]
  },
  {
   "cell_type": "code",
   "execution_count": null,
   "metadata": {},
   "outputs": [],
   "source": [
    "import sqlite3\n",
    "\n",
    "with sqlite3.connect('SQLDatabase.db') as conn:\n",
    "    query = '''SELECT * FROM programming_trends'''\n",
    "    results = conn.execute(query).fetchall()\n",
    "\n",
    "results"
   ]
  },
  {
   "cell_type": "markdown",
   "metadata": {},
   "source": [
    "**Caveat**: Often you would want to include a `try` (`except`) and `finally` within the function to ensure you are able to handle any connection errors you might have."
   ]
  },
  {
   "cell_type": "markdown",
   "metadata": {},
   "source": [
    "#### **Exercise 4:** Recreate the context managers from exercises 2 and 3 with generators"
   ]
  },
  {
   "cell_type": "code",
   "execution_count": null,
   "metadata": {},
   "outputs": [],
   "source": []
  },
  {
   "cell_type": "code",
   "execution_count": null,
   "metadata": {},
   "outputs": [],
   "source": [
    "# %load answers/ex-convert2.py"
   ]
  }
 ],
 "metadata": {
  "kernelspec": {
   "display_name": "Python 3 (ipykernel)",
   "language": "python",
   "name": "python3"
  },
  "language_info": {
   "codemirror_mode": {
    "name": "ipython",
    "version": 3
   },
   "file_extension": ".py",
   "mimetype": "text/x-python",
   "name": "python",
   "nbconvert_exporter": "python",
   "pygments_lexer": "ipython3",
   "version": "3.11.8"
  }
 },
 "nbformat": 4,
 "nbformat_minor": 4
}
