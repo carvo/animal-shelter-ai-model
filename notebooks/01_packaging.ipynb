{
 "cells": [
  {
   "cell_type": "markdown",
   "metadata": {},
   "source": [
    "<img src='../images/xebia-logo.png' width='300px' align='right' style=\"padding: 15px\">\n",
    "\n",
    "# Python Packaging\n",
    "\n",
    "In this notebook you will practice how to organice python code into a package."
   ]
  },
  {
   "cell_type": "markdown",
   "metadata": {},
   "source": [
    "The first step will be to set up the basic infrastructure required to run these notebooks. \n",
    "\n",
    "**If you are comfortable using git we recommend checking out a new branch to follow along (`git checkout -b BRANCH_NAME`) during the training.**\n",
    "\n",
    "You need:\n",
    "\n",
    "1. A `pyproject.toml` file in the root of the repository.\n",
    "    - You can use `poetry init` to create it\n",
    "    \n",
    "1. `pandas` installed as a dependency with `poetry add pandas`. Notice that this will create a virtual environment if it was not already created.\n",
    "\n",
    "1. `jupyter` installed as a development dependency so that we can run these notebooks from the virtual environment `poetry add -G dev jupyter`.\n",
    "    - **Question:** Why are we adding `jupyter` as a dev-dependency and `pandas` as a normal dependency?\n",
    "\n",
    "1. Make the `Ipython` kernel from the virtual environment accesible to VSCode (and the rest of the system) by running `python -m ipykernel install --user --name=venv` **from the virtual environment**.\n",
    "    - *Hint:* use `poetry run ...` or `poetry shell`. What was the difference between these two commands?"
   ]
  },
  {
   "cell_type": "markdown",
   "metadata": {},
   "source": [
    "Now let's have a look as the use case these training uses as an example. It concerns an animal shelter that is trying to predict the outcome (e.g. adopted, transferred) of the animals that come through it."
   ]
  },
  {
   "cell_type": "code",
   "execution_count": null,
   "metadata": {},
   "outputs": [],
   "source": [
    "import pandas as pd\n",
    "import re\n",
    "\n",
    "def load_data(path):\n",
    "    \"\"\"Load the data and convert the column names.\n",
    "\n",
    "    Parameters\n",
    "    ----------\n",
    "    path : str\n",
    "        Path to data\n",
    "    Returns\n",
    "    -------\n",
    "    df : pandas.DataFrame\n",
    "        DataFrame with data\n",
    "    \"\"\"\n",
    "    df = (\n",
    "        pd.read_csv(path, parse_dates=[\"DateTime\"])\n",
    "        .rename(columns=lambda x: x.replace(\"upon\", \"Upon\"))\n",
    "        .rename(columns=convert_camel_case)\n",
    "        .fillna(\"Unknown\")\n",
    "    )\n",
    "    return df\n",
    "\n",
    "\n",
    "def convert_camel_case(name):\n",
    "    \"\"\"Convert camelCaseString to snake_case_string.\"\"\"\n",
    "    s1 = re.sub(\"(.)([A-Z][a-z]+)\", r\"\\1_\\2\", name)\n",
    "    return re.sub(\"([a-z0-9])([A-Z])\", r\"\\1_\\2\", s1).lower()"
   ]
  },
  {
   "cell_type": "code",
   "execution_count": null,
   "metadata": {},
   "outputs": [],
   "source": [
    "animal_outcomes = load_data('../data/train.csv')\n",
    "animal_outcomes.head()"
   ]
  },
  {
   "cell_type": "markdown",
   "metadata": {},
   "source": [
    "Feel free to spend some time doing some preliminary data exploration."
   ]
  },
  {
   "cell_type": "code",
   "execution_count": null,
   "metadata": {},
   "outputs": [],
   "source": []
  },
  {
   "cell_type": "markdown",
   "metadata": {},
   "source": [
    "From this dataset you can generate the following features about each animal that may be helpful to train a machine learning model later on.\n",
    "\n",
    "- boolean indicator for whether it is a dog\n",
    "- boolean indicator for whether it has a name\n",
    "- categorical feature indicating its sex\n",
    "- categorical feature indicating whether it is neutered\n",
    "- catergorical feature indicating its hair type\n",
    "- age upon outcome in days\n",
    "\n",
    "You can add all of these features to the dataset with the functions below."
   ]
  },
  {
   "cell_type": "code",
   "execution_count": null,
   "metadata": {},
   "outputs": [],
   "source": [
    "import numpy as np\n",
    "import pandas as pd\n",
    "\n",
    "\n",
    "def add_features(df):\n",
    "    \"\"\"Add some features to our data.\n",
    "    Parameters\n",
    "    ----------\n",
    "    df : pandas.DataFrame\n",
    "        DataFrame with data (see load_data)\n",
    "    Returns\n",
    "    -------\n",
    "    with_features : pandas.DataFrame\n",
    "        DataFrame with some column features added\n",
    "    \"\"\"\n",
    "    df['is_dog'] = check_is_dog(df['animal_type'])\n",
    "\n",
    "\n",
    "    # Check if it has a name.\n",
    "    df['has_name'] = df['name'].str.lower() != 'unknown'\n",
    "\n",
    "\n",
    "    # Get sex.\n",
    "    sexUponOutcome = df['sex_upon_outcome']\n",
    "    sex = pd.Series('unknown', index=sexUponOutcome.index)\n",
    "\n",
    "    sex.loc[sexUponOutcome.str.endswith('Female')] = 'female'\n",
    "    sex.loc[sexUponOutcome.str.endswith('Male')] = 'male'\n",
    "    df['sex'] = sex\n",
    "\n",
    "\n",
    "\n",
    "    # Check if neutered.\n",
    "    neutered = sexUponOutcome.str.lower()\n",
    "    neutered.loc[neutered.str.contains('neutered')] = 'fixed'\n",
    "    neutered.loc[neutered.str.contains('spayed')] = 'fixed'\n",
    "\n",
    "\n",
    "    neutered.loc[neutered.str.contains('intact')] = 'intact'\n",
    "    neutered.loc[~neutered.isin(['fixed', 'intact'])] = 'unknown'\n",
    "\n",
    "\n",
    "    df['neutered'] = neutered\n",
    "\n",
    "\n",
    "    # Get hair type.\n",
    "\n",
    "    hairType = df['breed'].str.lower()\n",
    "    Valid_hair_types = ['shorthair', 'medium hair', 'longhair']\n",
    "\n",
    "\n",
    "\n",
    "    for hair in Valid_hair_types:\n",
    "        is_hair_type = hairType.str.contains(hair)\n",
    "        hairType[is_hair_type] = hair\n",
    "\n",
    "    hairType[~hairType.isin(Valid_hair_types)] = 'unknown'\n",
    "\n",
    "\n",
    "    df['hair_type'] = hairType\n",
    "\n",
    "\n",
    "    # Age in days upon outcome.\n",
    "\n",
    "    Split_Age = df['age_upon_outcome'].str.split()\n",
    "    time = Split_Age.apply(lambda x: x[0] if x[0] != 'Unknown' else np.nan)\n",
    "    period = Split_Age.apply(lambda x: x[1] if x[0] != 'Unknown' else None)\n",
    "    period_Mapping = {'year': 365, 'years': 365, 'weeks': 7, 'week': 7,\n",
    "                      'month': 30, 'months': 30, 'days': 1, 'day': 1}\n",
    "    days_upon_outcome = time.astype(float) * period.map(period_Mapping)\n",
    "    df['days_upon_outcome'] = days_upon_outcome\n",
    "\n",
    "\n",
    "\n",
    "    return df\n",
    "\n",
    "def check_is_dog(animal_type):\n",
    "    \"\"\"Check if the animal is a dog, otherwise return False.\n",
    "    Parameters\n",
    "    ----------\n",
    "    animal_type : pandas.Series\n",
    "        Type of animal\n",
    "    Returns\n",
    "    -------\n",
    "    result : pandas.Series\n",
    "        Dog or not\n",
    "    \"\"\"\n",
    "    # Check if it's either a cat or a dog.\n",
    "    is_cat_dog = animal_type.str.lower().isin(['dog', 'cat'])\n",
    "    if not is_cat_dog.all():\n",
    "        print('Found something else but dogs and cats:\\n%s',\n",
    "              animal_type[~is_cat_dog])\n",
    "        raise RuntimeError(\"Found pets that are not dogs or cats.\")\n",
    "    is_dog = animal_type.str.lower() == 'dog'\n",
    "    return is_dog"
   ]
  },
  {
   "cell_type": "code",
   "execution_count": null,
   "metadata": {},
   "outputs": [],
   "source": [
    "animal_outcomes = load_data('../data/train.csv')\n",
    "with_features = add_features(animal_outcomes)\n",
    "with_features.head()"
   ]
  },
  {
   "cell_type": "markdown",
   "metadata": {},
   "source": [
    "There are some bad practices going on in the functions above, but don't worry about their quality for now. Let's focus on packaging the code."
   ]
  },
  {
   "cell_type": "markdown",
   "metadata": {},
   "source": [
    "## <mark> Exercise\n",
    "Your goal is to copy-paste the code from the cells above into a package that exports the functionality that a user (e.g. an analyst writing a report in a notebook or a service serving predictions) would *use*. \n",
    "\n",
    "They should be able to import the functions as in the cell below:"
   ]
  },
  {
   "cell_type": "code",
   "execution_count": null,
   "metadata": {},
   "outputs": [],
   "source": [
    "from animal_shelter.data import load_data\n",
    "from animal_shelter.features import add_features\n",
    "animal_outcomes = load_data('../data/test.csv')\n",
    "with_features = add_features(animal_outcomes)\n",
    "with_features.head()"
   ]
  },
  {
   "cell_type": "markdown",
   "metadata": {},
   "source": [
    "*Hint:* the location of the package should be in this folder structure: `repository_root/src/animal_shelter/__init__.py`"
   ]
  },
  {
   "cell_type": "markdown",
   "metadata": {},
   "source": [
    "*Hint:* Your `pyproject.toml` file should also point to the path of the code.\n",
    "```toml\n",
    "[tool.poetry]\n",
    "packages = [ { include = \"animal_shelter\", from = \"src\" } ]\n",
    "```"
   ]
  },
  {
   "cell_type": "markdown",
   "metadata": {},
   "source": [
    "You can run the cell below to automatically auto-reload changes to the source code of any imported package, which is very useful during development."
   ]
  },
  {
   "cell_type": "code",
   "execution_count": null,
   "metadata": {},
   "outputs": [],
   "source": [
    "%load_ext autoreload\n",
    "%autoreload 2"
   ]
  }
 ],
 "metadata": {
  "kernelspec": {
   "display_name": "Python 3 (ipykernel)",
   "language": "python",
   "name": "python3"
  },
  "language_info": {
   "codemirror_mode": {
    "name": "ipython",
    "version": 3
   },
   "file_extension": ".py",
   "mimetype": "text/x-python",
   "name": "python",
   "nbconvert_exporter": "python",
   "pygments_lexer": "ipython3",
   "version": "3.11.8"
  },
  "vscode": {
   "interpreter": {
    "hash": "854759ad136d12febc63223e263ca6d31f684f31f0501f26974c9dc721af0e5f"
   }
  }
 },
 "nbformat": 4,
 "nbformat_minor": 4
}
