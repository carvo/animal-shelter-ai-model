{
 "cells": [
  {
   "cell_type": "markdown",
   "id": "f5139297",
   "metadata": {},
   "source": [
    "<img src=images/xd-logo.png align=right width=300px>\n",
    "\n",
    "# Async FastAPI\n"
   ]
  },
  {
   "cell_type": "markdown",
   "id": "8bc90e51-67dc-4091-9200-928b44318930",
   "metadata": {},
   "source": [
    "Create a file called `sleepy_api.py` with the code from the cell below and start a server serving the API with `uvicorn sleepy_api:app --reload`. And visit http://127.0.0.1:8000/sleep .\n",
    "\n",
    "When the webserver receives a request it will sleep for the specified ammount of seconds before returning a response."
   ]
  },
  {
   "cell_type": "code",
   "execution_count": null,
   "id": "d080bda3-5765-4636-871f-64d3c7c2448c",
   "metadata": {},
   "outputs": [],
   "source": [
    "from fastapi import FastAPI\n",
    "import time\n",
    "\n",
    "app = FastAPI()\n",
    " \n",
    "@app.get(\"/sleep/{seconds}\")\n",
    "def sleep_for(seconds: int):\n",
    "    time.sleep(seconds)\n",
    "    return \"Awake!\""
   ]
  },
  {
   "cell_type": "markdown",
   "id": "f155f5d6-c455-4509-a958-7dbe59e9de8a",
   "metadata": {},
   "source": [
    "Now try to request the API multiple times (e.g. by opening the URL multiple times in different tabs) while *the server is sleeping*. What do you expect to happen?"
   ]
  },
  {
   "cell_type": "markdown",
   "id": "36f2a8e2-b6df-4646-8ccc-9fada0c4f931",
   "metadata": {},
   "source": [
    "<details>\n",
    "    \n",
    "  <summary><span style=\"color:blue\">What is going on?</span></summary>\n",
    "  \n",
    "FastAPI will always work asynchronously, since it's build on top of Starlette.\n",
    "\n",
    "However, if you define APIs that depend on resources that induce some latency (e.g. they are computationally demanding) and they allow for coroutines with `async`and `await`, you can mark your endpoints with `async` and FastaPI will take care of making it work.\n",
    "\n",
    "</details>"
   ]
  },
  {
   "cell_type": "code",
   "execution_count": null,
   "id": "086d2301-8930-47cb-9d0a-5a7a4d345584",
   "metadata": {},
   "outputs": [],
   "source": [
    "import asyncio\n",
    "@app.get(\"/sleepio/{seconds}\")\n",
    "async def sleep_for(seconds: int):\n",
    "    print(\"Going to bed\")\n",
    "    for s in range(seconds+1):\n",
    "      await asyncio.sleep(1)\n",
    "      print(f\"zz {s}\")\n",
    "    return \"Awake!\""
   ]
  },
  {
   "cell_type": "markdown",
   "id": "7319e0b4-591a-4d83-9154-b47a73f3b7db",
   "metadata": {},
   "source": [
    "The rules of thumb about when to use `async` endpoints are:   \n",
    "  - If your endpoint calls functions that support `async`/`await` use `async`.\n",
    "  - If you endpoint calls functions that don't support `async`/`await`, don't use async.\n",
    "  - If your endpoint doesn't depend on external resources, use `async` to allow for more concurrent connections to your API.\n",
    "  - If you are not sure, don't use `async`."
   ]
  }
 ],
 "metadata": {
  "kernelspec": {
   "display_name": "Python 3 (ipykernel)",
   "language": "python",
   "name": "python3"
  },
  "language_info": {
   "codemirror_mode": {
    "name": "ipython",
    "version": 3
   },
   "file_extension": ".py",
   "mimetype": "text/x-python",
   "name": "python",
   "nbconvert_exporter": "python",
   "pygments_lexer": "ipython3",
   "version": "3.11.5"
  }
 },
 "nbformat": 4,
 "nbformat_minor": 5
}
