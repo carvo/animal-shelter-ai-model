{
 "cells": [
  {
   "cell_type": "markdown",
   "id": "f5139297",
   "metadata": {},
   "source": [
    "<img src=images/xd-logo.png align=right width=300px>\n",
    "\n",
    "# FastAPI Responses"
   ]
  },
  {
   "cell_type": "markdown",
   "id": "38ea0b6b-0c8f-4378-85d9-a00b3482bd19",
   "metadata": {},
   "source": [
    "This notebook covers how to use Pydantic to validate API responses, and how to use different responde types with FastAPI."
   ]
  },
  {
   "cell_type": "markdown",
   "id": "ed37b3f9-efd7-4de4-a9f9-4d477473d289",
   "metadata": {},
   "source": [
    "## Validating responses\n",
    "\n",
    "In the same way that you can use Pydantic models to perform data validation on the API inputs, you can also use Pydantic models to validate and filter the API response outputs.\n",
    "\n",
    "Let's create a file called `responsive_api.py` with the following POST endpoint and start a server with uvicorn that exposes the API."
   ]
  },
  {
   "cell_type": "code",
   "execution_count": null,
   "id": "bdd05a4e-7c58-40a1-8969-7a8d235360d8",
   "metadata": {},
   "outputs": [],
   "source": [
    "from fastapi import FastAPI\n",
    "from pydantic import BaseModel\n",
    "from datetime import datetime\n",
    "from typing import List\n",
    "\n",
    "app = FastAPI()\n",
    "\n",
    "class User(BaseModel):\n",
    "    id: int\n",
    "    name: str = \"John Doe\"\n",
    "    signup_ts: datetime | None = None\n",
    "    friend_ids: List[int] | None = None\n",
    "    password: str\n",
    "\n",
    "@app.post(\"/user\")\n",
    "async def read_user(user: User) -> User:\n",
    "    return user"
   ]
  },
  {
   "cell_type": "markdown",
   "id": "17bdac71-39fd-4cc2-98db-6c935921fcab",
   "metadata": {},
   "source": [
    "And now, instead of using a web browser to access the API, you can run the following cell to use the `requests` library to generate and send a POST request."
   ]
  },
  {
   "cell_type": "code",
   "execution_count": null,
   "id": "e973e5c7-1494-4dac-8a16-844fc85582c0",
   "metadata": {},
   "outputs": [],
   "source": [
    "import requests\n",
    "\n",
    "r = requests.post(\"http://127.0.0.1:8000/user\",\n",
    "                  # Notice that `id` is being passed as a string that get's casted into an integer\n",
    "                  json={\"id\":\"42\", \"name\":\"Joe\",\"friend_ids\":[110, 31], \"password\":\"joms\"})\n",
    "\n",
    "r.json()"
   ]
  },
  {
   "cell_type": "markdown",
   "id": "7760a3d5-7469-4589-a4e0-d7cbb9ba793f",
   "metadata": {},
   "source": [
    "You can mak sure that your API resturns the data you expect it to return by using a Pydantic model as the output type of an endpoint. If your program doesn't generate valid output, Pydantic will catch it and prevent your API from returning invalid data.\n",
    "\n",
    "You can see this happening by adding the following endpoint and sending a valid request."
   ]
  },
  {
   "cell_type": "code",
   "execution_count": null,
   "id": "0e657dd3-9e57-4040-b82e-ac30e5914ac4",
   "metadata": {},
   "outputs": [],
   "source": [
    "@app.post(\"/failing_user\")\n",
    "async def read_user(user: User) -> User:\n",
    "    # the program generates invalid data, i.e. missing a password\n",
    "    return {\"id\":user.id, \"name\":\"John Doe\"}"
   ]
  },
  {
   "cell_type": "code",
   "execution_count": null,
   "id": "b6446ab5-88d9-4b76-a8d8-2c147deb6573",
   "metadata": {},
   "outputs": [],
   "source": [
    "r = requests.post(\"http://127.0.0.1:8000/failing_user\",\n",
    "                  json={\"id\":\"42\", \"name\":\"Joe\",\"friend_ids\":[110, 31], \"password\":\"joms\"})\n",
    "\n",
    "r.ok, r.reason"
   ]
  },
  {
   "cell_type": "markdown",
   "id": "608ef7c2-6ea1-4119-b1d4-837dbc57c5b2",
   "metadata": {},
   "source": [
    "## Filtering responses\n",
    "\n",
    "Additionally, you can also leverage the FastAPI+Pydantic combo to make sure your APIs **only** return the data you expect them to return. If the output type of an endpoint is a Pydantic model and the endpoint function attempts to return extra fields not present in the model, the response will be filtered.\n",
    "\n",
    "Let's say what you wan't to define an entrypoint that accepts requests from users, but returns a response that doesn't include their sign-up timestamps nor their passwords. You can add the following code to `responsive_api.py`."
   ]
  },
  {
   "cell_type": "code",
   "execution_count": null,
   "id": "74660dcd-0747-421b-ad5a-33bbc3cd6f1c",
   "metadata": {},
   "outputs": [],
   "source": [
    "class SafeUser(BaseModel):\n",
    "    id: int\n",
    "    name: str = \"John Doe\"\n",
    "    friend_ids: List[int] | None = None\n",
    "\n",
    "\n",
    "@app.post(\"/safe_user\")\n",
    "async def read_user(user: User) -> SafeUser:\n",
    "    return user"
   ]
  },
  {
   "cell_type": "markdown",
   "id": "83e6be87-0ee4-428c-8b3d-9928868f7e96",
   "metadata": {},
   "source": [
    "And call the new endpoint with:"
   ]
  },
  {
   "cell_type": "code",
   "execution_count": null,
   "id": "521e800e-f558-4839-b76d-297f3e4d0092",
   "metadata": {},
   "outputs": [],
   "source": [
    "r = requests.post(\"http://127.0.0.1:8000/safe_user\",\n",
    "                  # Notice that the query doesn't include a name so the API returns the default value\n",
    "                  json={\"id\":\"42\",\"friend_ids\":[110, 31], \"password\":\"joms\"})\n",
    "\n",
    "r.json()"
   ]
  },
  {
   "cell_type": "markdown",
   "id": "550dd50b-0881-470d-99c6-4a285b93cd30",
   "metadata": {},
   "source": [
    "This works fine, but there's a bit of code duplication going on since you have to define multiple objects with the same fields. Can you think of a way of abstracting the common fields away?\n",
    "\n",
    "<details>\n",
    "    \n",
    "  <summary><span style=\"color:blue\">Hint</span></summary>\n",
    "  \n",
    "Define a Pydantic class that contains the common fields, and inherit from it to define a second class that adds the additional fields.\n",
    "\n",
    "</details>"
   ]
  },
  {
   "cell_type": "markdown",
   "id": "50c4e709-13c6-4251-bda4-38ededf73451",
   "metadata": {},
   "source": [
    "## Other response types\n",
    "\n",
    "So far you've only created APIs that return JSON objects (i.e. `fastapi.responses.JSONRersponse`), which is by far the most common format to exchange data between APIs. However, there's a multitude of other data formats or response types that you might want to return.\n",
    "\n",
    "You can investigate the following common cases:\n",
    "\n",
    "- Returning a list of Pydantic models instead of a single model and/or returning nested Pydantic models.\n",
    "- `fastapi.responses.RedirectResponse`\n",
    "- Using ORJSON and what advantages it might have **(!)**.\n",
    "- `fastapi.responses.StreamingResponse`\n",
    "- Returning XML responses.\n",
    "- `fastapi.responses.FileResponse`\n",
    "- Manual exception handling (e.g. a user is not found) with `fastapi.HTTPException`.\n",
    "- Constructing custom response types by inhereting from the `Response` class."
   ]
  },
  {
   "cell_type": "markdown",
   "id": "b3541fd0-57bf-43e2-8d56-a108d2869370",
   "metadata": {},
   "source": [
    "## Summary\n",
    "\n",
    "If you use Pydantic types to model the output of you APIs:\n",
    "  - You can validate the output of your endpoints. If the data is invalid you'd want your code to fail, not to return invalid data.\n",
    "  - It allows you to declare what data your API returns (and filter what it shouldn't return) in an ergonomic way.\n",
    "  - There is a single *source of truth* about what data is returned: the Pydantic models.\n",
    "  - You get documentation *for free* and an automatic JSON schema (at `entrypoint/openapi.json`, also accesible from the `/docs` endpoint).\n",
    "\n",
    "And moreoever, FastAPI supports a bunch of additional response types not limited to raw-ish data formats."
   ]
  },
  {
   "cell_type": "markdown",
   "id": "5c9f3b36-3cae-4aa6-93c2-80f44774705d",
   "metadata": {},
   "source": [
    "### Miscellaneous tips\n",
    "\n",
    "> If you need to return an object that can't be a Pydantic model for some reason (e.g. database object, raw dictionary), you can still do data validation and filtering by specifying the output type of your endpoint to be a Pydantic model. However, this will break linting and other IDE niceties. To circumvent this you can set the `response_model=PydanticModel` parameter in the endpoint decorator and specifying the return type of your endpoint function as `Any`.\n",
    "\n",
    "> You can disable the response validation that FastAPI performs by default by setting the endpoitn argument `response_model=None`, but don't unless you have a good reason.\n",
    "\n",
    "> You can use the `default_response` argument of the `FastAPI` constructor to specify a default response type for all endpoints. Quite common to use with `default_response_class=ORJSONResponse` if you're building a pure JSON API. "
   ]
  }
 ],
 "metadata": {
  "kernelspec": {
   "display_name": "Python 3 (ipykernel)",
   "language": "python",
   "name": "python3"
  },
  "language_info": {
   "codemirror_mode": {
    "name": "ipython",
    "version": 3
   },
   "file_extension": ".py",
   "mimetype": "text/x-python",
   "name": "python",
   "nbconvert_exporter": "python",
   "pygments_lexer": "ipython3",
   "version": "3.11.8"
  }
 },
 "nbformat": 4,
 "nbformat_minor": 5
}
