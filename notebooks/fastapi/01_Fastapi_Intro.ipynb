{
 "cells": [
  {
   "cell_type": "markdown",
   "id": "f5139297",
   "metadata": {},
   "source": [
    "<img src=images/xd-logo.png align=right width=300px>\n",
    "\n",
    "# FastAPI\n",
    "*In the begining there was darkness (django and flask), now we have FastAPI*."
   ]
  },
  {
   "cell_type": "markdown",
   "id": "655b9401",
   "metadata": {},
   "source": [
    "- What is a (RESTful) API?\n",
    "- Introduction to FastAPI\n",
    "\n",
    "You can access the official FastAPI documentation [here](https://fastapi.tiangolo.com/)."
   ]
  },
  {
   "cell_type": "markdown",
   "id": "8836e8cb",
   "metadata": {},
   "source": [
    "## What's an API?\n",
    "\n",
    "- An API (application programming interface) is a very generic concept. It is the set of rules that define how to communicate with a software application. For example:\n",
    "  - The public elements of a software library are \"the API\" of the library.\n",
    "    - e.g. Pandas `DataFrame`, the methods the class implements, etc. conform the \"Pandas API\".\n",
    "  - Visiting any website is essentially querying a webserver's API that returns HTML.\n",
    "  - An application can expose an API online that you can use to interact programmatically with it.\n",
    "    - e.g. `https://www.google.com/search?q={{QUERY}}` is Google's search engine API."
   ]
  },
  {
   "cell_type": "markdown",
   "id": "53d52f19",
   "metadata": {},
   "source": [
    "## What is a RESTful API?\n",
    "\n",
    "[REST](https://en.wikipedia.org/wiki/REST) stands for Representational State Transfer, and it is a set of **standards** that specify how an API should behave. \n",
    "- Uniformity across APIs.\n",
    "- Aiming for reliable and performance communication.\n",
    "- Designed originally to specify how  different applications shoul communicate over the internet.\n",
    "\n",
    "At the most basic level an API is a program in a server that processes **requests** from clients, does some work, and returns **responses**.\n",
    "\n",
    "There are different types of methods that you can pass to a request.\n",
    "\n",
    "- `GET` Retrieve the resource from the server, **should not mutate** the state of the server (except logs, etc.)\n",
    "- `POST` Create a resource on the server.\n",
    "- `PUT` Update the resource on the server.\n",
    "- `DELETE` Delete the resource from the server.\n",
    "- ... Some more exotic ones.\n",
    "\n",
    "There are [many different response types](https://developer.mozilla.org/en-US/docs/Web/HTTP/Status) and they're typically clustered together in a number. The most common responde codes are:\n",
    "\n",
    "- `2xx` response sent.\n",
    "- `4xx` the server thinks the client made an error.\n",
    "- `5xx` the server thinks that it made an error."
   ]
  },
  {
   "cell_type": "markdown",
   "id": "b688721b",
   "metadata": {},
   "source": [
    "### What, why, FastAPI?\n",
    "\n",
    "- Django and Flask are older, bigger, more complex projects. They focus on building webapps with APIs, not just on creating APIs.\n",
    "- FastAPI is exclusively focussed on creating APIS.\n",
    "- FastAPI is extremelly fast and supports concurrent operations (more on that later) by default. It is built on top of [Starlette](https://www.starlette.io/).\n",
    "- Follows OpenAPI standards (e.g. standard JSON schemas that communicate how the API behaves, rules for code-generation).\n",
    "- Automatic data-model validation (built on top of [Pydantic](https://docs.pydantic.dev/latest/)) and documentation.\n",
    "- Type-safe (at least relatively safe for python standards).\n",
    "- Built-in Swagger UI (most popular API tooling framework, original creators of OpenAPI)."
   ]
  },
  {
   "cell_type": "markdown",
   "id": "581fdb65",
   "metadata": {},
   "source": [
    "## FastAPI basics"
   ]
  },
  {
   "cell_type": "markdown",
   "id": "5d130b1c",
   "metadata": {},
   "source": [
    "FastAPI takes care of all the API machinery (e.g. processing requests, validating input, generating responses), but it needs to be served by a webserver. \n",
    "\n",
    "In production settings the most feature-complete, performant, robust and popular server is *nginx*. However, *uvicorn* is a more minimal and also popular alternative that's easier to get started with in a Python environment."
   ]
  },
  {
   "cell_type": "markdown",
   "id": "d6077499",
   "metadata": {},
   "source": [
    "Create a file called `hello_api.py` with the code from the cell below and start a server serving the API with `uvicorn hello_api:app --reload`. By default the server is exposed in port 8000, so the API is reachable at: http://127.0.0.1:8000/ .\n",
    "\n",
    "\n",
    "The main syntaxt of the uvicorn CLI is `uvicorn FILE:OBJECT`, and `--reload` specifies that the server will atomatically detect changes when the underlying python files change."
   ]
  },
  {
   "cell_type": "code",
   "execution_count": null,
   "id": "32f2461f",
   "metadata": {},
   "outputs": [],
   "source": [
    "from fastapi import FastAPI\n",
    "\n",
    "app = FastAPI()\n",
    "\n",
    "@app.get(\"/\")\n",
    "def hello():\n",
    "    return \"Hello, world!\""
   ]
  },
  {
   "cell_type": "markdown",
   "id": "24a06a4c",
   "metadata": {},
   "source": [
    "Have a look at the standard output of the uvicorn CLI to see which requests the server receives and which responses it sends out. What happens if you try to request a different URL e.g. http://127.0.0.1:8000/wrongurl ?\n",
    "\n",
    "In APIs terminology we call the main access point the \"entrypoint\" (e.g. port 8000 of the localhost) and each specific URL \"endpoints\".\n",
    "\n",
    "You can use the `/docs` endpoint (i.e. http://127.0.0.1:8000/docs) to access the built-in documentation, where you can see all endpoints and interact with them."
   ]
  },
  {
   "cell_type": "markdown",
   "id": "898d5a86",
   "metadata": {},
   "source": [
    "## API Parameters\n",
    "\n",
    "Let's add a new endpoint by adding the following code to `hello_api.py` and try calling the endpoint with different values of `name`."
   ]
  },
  {
   "cell_type": "code",
   "execution_count": null,
   "id": "6ca4b6b3",
   "metadata": {},
   "outputs": [],
   "source": [
    "@app.get(\"/greet/{name}\")\n",
    "def greet(name: str):\n",
    "    return f\"Hello, {name}!\""
   ]
  },
  {
   "cell_type": "markdown",
   "id": "e7314b40",
   "metadata": {},
   "source": [
    "These kind of endpoints accept **\"path parameters\"**, since the endpoint accepts arguments as part of it's URL path.\n",
    "\n",
    "If you define an entrypoint with a function that accepts arguments that are not path parameters, FastAPI will assume they are **\"query parameters\"**. You can pass query parameters to an API after a `?`, and separate multiple ones with `&`. \n",
    "\n",
    "E.g. `entrypoint/endpoint?arg_1=val_1&arg_2=val_2` .\n",
    "\n",
    "Try adding the code in the next code cell to `hello_api.py` and explore:\n",
    "\n",
    "- What happens if you access http://127.0.0.1:8000/greet_int?num=3\n",
    "- What happens if you don't provide an argument to the query.\n",
    "  - What happens if you provide an non-keyword argument? i.e. http://127.0.0.1:8000/greet_int?3\n",
    "- What happens if you provide extra query arguments?\n",
    "- Can you define default parameter values?\n",
    "  - Tip: You can mark arguments as optional without providing a default value by setting their type as `arg: type | None = None`.\n",
    "- What happens if you pass a value that is not an `int`? \n",
    "  - *(Spoilers: FastAPI performs automatic data validation and type casting thanks to Pydantic!)*\n",
    "- Try extending the endpoint definition to accept both path parameters and query parameters simultaneously."
   ]
  },
  {
   "cell_type": "code",
   "execution_count": null,
   "id": "db84289d",
   "metadata": {},
   "outputs": [],
   "source": [
    "@app.get(\"/greet_int\")\n",
    "def greet_int(num: int):\n",
    "    return f\"Hello, number {num}!\""
   ]
  },
  {
   "cell_type": "markdown",
   "id": "9ae0e016-6a1b-4cf0-a823-9b82d28cb864",
   "metadata": {},
   "source": [
    "There's and additional common kind of parameters that FastAPI supports called **\"request bodies\"**, but to use those you first need to get familiar with the data-validation library that FastAPI builds from: Pydantic.\n",
    "\n",
    "As a summary of how to specify the type API parameters:\n",
    "\n",
    "- If the parameter is also **declared in the path**, it will be used as a path parameter.\n",
    "- If the parameter is of a **simple**-ish **type** (e.g. `int`, `float`, `str`, `bool`) it will be interpreted as a query parameter.\n",
    "- If the parameter is a **Pydantic model**, it will be interpreted as a request body.\n"
   ]
  },
  {
   "cell_type": "markdown",
   "id": "37574bb5",
   "metadata": {},
   "source": [
    "### Mislacenea tips\n",
    "\n",
    "> If you need to access the raw request for some reason (e.g. to use information about the *requester*), you can define a paramter in your endpoint definitions of type `fastapi.Request` and FastAPI will pass the request as that argument.\n",
    "\n",
    "> If you like FastAPI's API and need to write CLI applications, take a look at [Typer](https://typer.tiangolo.com/)."
   ]
  }
 ],
 "metadata": {
  "kernelspec": {
   "display_name": "Python 3 (ipykernel)",
   "language": "python",
   "name": "python3"
  },
  "language_info": {
   "codemirror_mode": {
    "name": "ipython",
    "version": 3
   },
   "file_extension": ".py",
   "mimetype": "text/x-python",
   "name": "python",
   "nbconvert_exporter": "python",
   "pygments_lexer": "ipython3",
   "version": "3.11.8"
  }
 },
 "nbformat": 4,
 "nbformat_minor": 5
}
