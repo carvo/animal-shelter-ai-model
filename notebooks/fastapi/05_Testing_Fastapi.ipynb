{
 "cells": [
  {
   "cell_type": "markdown",
   "id": "f5139297",
   "metadata": {},
   "source": [
    "<img src=images/xd-logo.png align=right width=300px>\n",
    "\n",
    "# Testing FastAPI"
   ]
  },
  {
   "cell_type": "markdown",
   "id": "5c9f3b36-3cae-4aa6-93c2-80f44774705d",
   "metadata": {},
   "source": [
    "> When it comes to writing APIs, possibly the most important **best-practice** to follow is to **separate the code that implements the logic of your program from the code that exposes your program as an API.**"
   ]
  },
  {
   "cell_type": "markdown",
   "id": "5071b182-a86e-47a8-8854-11b4b2f8fc59",
   "metadata": {},
   "source": [
    "In this example the logic of our program intertwined with the endpoint definitions. This forces you to have to interact with the API if you want to test the logic of your program, which is not ideal."
   ]
  },
  {
   "cell_type": "code",
   "execution_count": null,
   "id": "f9e72b1c-e2f9-4011-ab7f-cc87d309e997",
   "metadata": {},
   "outputs": [],
   "source": [
    "from fastapi import FastAPI\n",
    "from pydantic import BaseModel\n",
    "\n",
    "from typing import Dict\n",
    "\n",
    "app = FastAPI()\n",
    "\n",
    "class Item(BaseModel):\n",
    "    name: str\n",
    "    description: str | None = None\n",
    "    price: float\n",
    "    tax: str | None = None\n",
    "\n",
    "items: Dict[str, Item] = {}\n",
    "\n",
    "@app.post(\"/items/\")\n",
    "async def create_item(item: Item):\n",
    "    item_dict = item.dict()\n",
    "    if item.tax:\n",
    "        price_with_tax = item.price + item.tax\n",
    "        item_dict.update({\"price_with_tax\": price_with_tax})\n",
    "    items[item.name] = item_dict\n",
    "    return item_dict\n",
    "\n",
    "@app.get(\"/item/{item_name}\")\n",
    "async def serve_item(item_name: str):\n",
    "    if item_name in items:\n",
    "        item = items[item_name]\n",
    "        return item\n",
    "    else:\n",
    "        raise HTTPException(404, f\"can't find {item_name}\")"
   ]
  },
  {
   "cell_type": "markdown",
   "id": "08d380d5-89d7-45df-b4de-62b0eb2d3741",
   "metadata": {},
   "source": [
    "Instead, let's separate the logic of the program into functions that are independent from the endpoint definitions.\n",
    "\n",
    "Even better would be to separate the data models and program logic into a python package, and create the API as an additional package that imports the program logic and data structures. But let's keep it simple for now and create a new file called `app.py` with all the code from the cell below."
   ]
  },
  {
   "cell_type": "code",
   "execution_count": null,
   "id": "fe0b48f4-9b6b-4ec4-a9a1-8ff591f67e6f",
   "metadata": {},
   "outputs": [],
   "source": [
    "from fastapi import FastAPI\n",
    "from pydantic import BaseModel\n",
    "\n",
    "from typing import Dict\n",
    "\n",
    "class Item(BaseModel):\n",
    "    name: str\n",
    "    description: str | None = None\n",
    "    price: float\n",
    "    tax: float | None = None\n",
    "\n",
    "items: Dict[str, Item] = {}\n",
    "\n",
    "def update_items(item: Item) -> dict:\n",
    "    item_dict = item.model_dump()\n",
    "    if item.tax:\n",
    "        price_with_tax = item.price + item.tax\n",
    "        item_dict.update({\"price_with_tax\": price_with_tax})\n",
    "    items[item.name] = item_dict\n",
    "    return item_dict\n",
    "\n",
    "def get_item(item_name: str) -> dict | None:\n",
    "    if item_name in items:\n",
    "        return items[item_name]\n",
    "    return None\n",
    "\n",
    "app = FastAPI()\n",
    "\n",
    "@app.post(\"/items/\")\n",
    "async def create_item(item: Item):\n",
    "    return update_items(item)\n",
    "\n",
    "@app.get(\"/item/{item_name}\")\n",
    "async def serve_item(item_name: str):\n",
    "    item = get_item(item_name)\n",
    "    if not item:\n",
    "        raise HTTPException(404, f\"can't find {item_name}\")\n",
    "    return item"
   ]
  },
  {
   "cell_type": "markdown",
   "id": "0daf8485-237d-4c01-be75-17521b0709d4",
   "metadata": {},
   "source": [
    "And now it's possible to test separatedly the behaviour of our program and the behaviour of our API endpoints.\n",
    "\n",
    "To test the endpoints we have two approaches:\n",
    " - Using FastAPI's `TestClient` that allows you to test the API without having to start a webserver.\n",
    " - Or by mocking the API connection.\n",
    "\n",
    "You can create a new file called `tests.py` with the following code to try it out."
   ]
  },
  {
   "cell_type": "code",
   "execution_count": null,
   "id": "1a3bc697-4039-40f7-ac85-149bebe0267b",
   "metadata": {},
   "outputs": [],
   "source": [
    "from fastapi.testclient import TestClient\n",
    "from unittest import mock\n",
    "\n",
    "# Uncomment this\n",
    "# from app import app, items, Item, update_items\n",
    "\n",
    "# Test the program logic\n",
    "def test_update_items():\n",
    "    item = Item(\n",
    "        name=\"candy\",\n",
    "        description=\"nice chocolates\",\n",
    "        price=5,\n",
    "        tax=1\n",
    "    )\n",
    "\n",
    "    res = update_items(item)\n",
    "    assert res['price_with_tax'] == 6\n",
    "\n",
    "# Test the endpoints\n",
    "client = TestClient(app)\n",
    "\n",
    "def test_get_item_endoint():\n",
    "   items['foo'] = {\"my\":\"fake item\"}\n",
    "\n",
    "   res = client.get(\"/item/foo\")\n",
    "   assert res.status_code == 200\n",
    "   assert res.json() == {\"my\":\"fake item\"}\n",
    "\n",
    "# Test a mocked-up endpoint\n",
    "def test_get_item_mocked():\n",
    "    with mock.patch('app.get_item', return_value={'my': 'faked fake item'}):\n",
    "        res = client.get(\"/item/foo\")\n",
    "        assert res.status_code == 200\n",
    "        assert res.json() == {\"my\": \"faked fake item\"}"
   ]
  },
  {
   "cell_type": "markdown",
   "id": "339c031b-39e9-484a-bcd4-f44fa9bed0d9",
   "metadata": {},
   "source": [
    "Now you can run the tests with `pytest tests.py`.\n",
    "\n",
    "Some exercises:\n",
    "- Can you try adding some more tests?\n",
    "- Edit `app.py` to use Pydantic to filter the output of `API/item/{{ITEM}}` so that it doesn't return the `price` and `tax`, but only the `price_with_tax`.\n",
    "- Test this functionality."
   ]
  }
 ],
 "metadata": {
  "kernelspec": {
   "display_name": "Python 3 (ipykernel)",
   "language": "python",
   "name": "python3"
  },
  "language_info": {
   "codemirror_mode": {
    "name": "ipython",
    "version": 3
   },
   "file_extension": ".py",
   "mimetype": "text/x-python",
   "name": "python",
   "nbconvert_exporter": "python",
   "pygments_lexer": "ipython3",
   "version": "3.11.5"
  }
 },
 "nbformat": 4,
 "nbformat_minor": 5
}
